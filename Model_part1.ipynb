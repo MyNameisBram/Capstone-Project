{
 "cells": [
  {
   "cell_type": "markdown",
   "metadata": {},
   "source": [
    "# Import Data \n",
    "---"
   ]
  },
  {
   "cell_type": "code",
   "execution_count": 1,
   "metadata": {},
   "outputs": [
    {
     "name": "stdout",
     "output_type": "stream",
     "text": [
      "Requirement already satisfied: pandas-profiling in /anaconda3/envs/learn-env/lib/python3.6/site-packages (1.4.2)\n",
      "Requirement already satisfied: six>=1.9 in /anaconda3/envs/learn-env/lib/python3.6/site-packages (from pandas-profiling) (1.11.0)\n",
      "Requirement already satisfied: pandas>=0.19 in /anaconda3/envs/learn-env/lib/python3.6/site-packages (from pandas-profiling) (0.23.4)\n",
      "Requirement already satisfied: jinja2>=2.8 in /anaconda3/envs/learn-env/lib/python3.6/site-packages (from pandas-profiling) (2.10)\n",
      "Requirement already satisfied: matplotlib>=1.4 in /anaconda3/envs/learn-env/lib/python3.6/site-packages (from pandas-profiling) (3.0.2)\n",
      "Requirement already satisfied: python-dateutil>=2.5.0 in /anaconda3/envs/learn-env/lib/python3.6/site-packages (from pandas>=0.19->pandas-profiling) (2.7.5)\n",
      "Requirement already satisfied: pytz>=2011k in /anaconda3/envs/learn-env/lib/python3.6/site-packages (from pandas>=0.19->pandas-profiling) (2018.5)\n",
      "Requirement already satisfied: numpy>=1.9.0 in /anaconda3/envs/learn-env/lib/python3.6/site-packages (from pandas>=0.19->pandas-profiling) (1.15.4)\n",
      "Requirement already satisfied: MarkupSafe>=0.23 in /anaconda3/envs/learn-env/lib/python3.6/site-packages (from jinja2>=2.8->pandas-profiling) (1.1.0)\n",
      "Requirement already satisfied: cycler>=0.10 in /anaconda3/envs/learn-env/lib/python3.6/site-packages (from matplotlib>=1.4->pandas-profiling) (0.10.0)\n",
      "Requirement already satisfied: kiwisolver>=1.0.1 in /anaconda3/envs/learn-env/lib/python3.6/site-packages (from matplotlib>=1.4->pandas-profiling) (1.0.1)\n",
      "Requirement already satisfied: pyparsing!=2.0.4,!=2.1.2,!=2.1.6,>=2.0.1 in /anaconda3/envs/learn-env/lib/python3.6/site-packages (from matplotlib>=1.4->pandas-profiling) (2.3.1)\n",
      "Requirement already satisfied: setuptools in /anaconda3/envs/learn-env/lib/python3.6/site-packages (from kiwisolver>=1.0.1->matplotlib>=1.4->pandas-profiling) (40.0.0)\n",
      "\u001b[31msmart-open 1.8.0 requires bz2file, which is not installed.\u001b[0m\n",
      "\u001b[31mnltk 3.4 requires singledispatch, which is not installed.\u001b[0m\n",
      "\u001b[33mYou are using pip version 10.0.1, however version 19.1.1 is available.\n",
      "You should consider upgrading via the 'pip install --upgrade pip' command.\u001b[0m\n"
     ]
    }
   ],
   "source": [
    "import pandas as pd \n",
    "import sys\n",
    "!{sys.executable} -m pip install pandas-profiling\n",
    "import pandas_profiling \n",
    "import numpy as np \n",
    "import matplotlib.pyplot as plt \n",
    "%matplotlib inline \n",
    "import warnings\n",
    "warnings.filterwarnings(\"ignore\")"
   ]
  },
  {
   "cell_type": "code",
   "execution_count": 2,
   "metadata": {},
   "outputs": [],
   "source": [
    "data = pd.read_csv('Data_June24.csv')"
   ]
  },
  {
   "cell_type": "code",
   "execution_count": 4,
   "metadata": {},
   "outputs": [
    {
     "data": {
      "image/png": "[encoded data removed]",
      "text/plain": [
       "<Figure size 576x360 with 1 Axes>"
      ]
     },
     "metadata": {
      "needs_background": "light"
     },
     "output_type": "display_data"
    }
   ],
   "source": [
    "#visualizing targets\n",
    "data.Income_level.value_counts(normalize=True).plot(kind='barh', color='midnightblue', figsize=(8,5))\n",
    "plt.xlabel('Percent')\n",
    "plt.ylabel('Income Level')\n",
    "plt.title('Group breakdown');"
   ]
  },
  {
   "cell_type": "code",
   "execution_count": 5,
   "metadata": {},
   "outputs": [
    {
     "data": {
      "text/html": [
       "<div>\n",
       "<style scoped>\n",
       "    .dataframe tbody tr th:only-of-type {\n",
       "        vertical-align: middle;\n",
       "    }\n",
       "\n",
       "    .dataframe tbody tr th {\n",
       "        vertical-align: top;\n",
       "    }\n",
       "\n",
       "    .dataframe thead th {\n",
       "        text-align: right;\n",
       "    }\n",
       "</style>\n",
       "<table border=\"1\" class=\"dataframe\">\n",
       "  <thead>\n",
       "    <tr style=\"text-align: right;\">\n",
       "      <th></th>\n",
       "      <th>Unnamed: 0</th>\n",
       "      <th>Account_ID</th>\n",
       "      <th>Entity_ID</th>\n",
       "      <th>Seller_Type</th>\n",
       "      <th>Creditor_Name</th>\n",
       "      <th>Closure_Type</th>\n",
       "      <th>Entity_City</th>\n",
       "      <th>Entity_State</th>\n",
       "      <th>Entity_Zip</th>\n",
       "      <th>Median_Household_Income</th>\n",
       "      <th>...</th>\n",
       "      <th>age_20s</th>\n",
       "      <th>age_30s</th>\n",
       "      <th>age_40s</th>\n",
       "      <th>age_50s</th>\n",
       "      <th>age_60s</th>\n",
       "      <th>age_70s</th>\n",
       "      <th>age_over_80</th>\n",
       "      <th>Age_range</th>\n",
       "      <th>Unemply_rate_range</th>\n",
       "      <th>Labor_force_part_range</th>\n",
       "    </tr>\n",
       "  </thead>\n",
       "  <tbody>\n",
       "    <tr>\n",
       "      <th>0</th>\n",
       "      <td>0</td>\n",
       "      <td>10271476</td>\n",
       "      <td>10921449</td>\n",
       "      <td>HOSPITAL</td>\n",
       "      <td>CHRISTUS Spohn Hospital - Alice</td>\n",
       "      <td>UNPAID</td>\n",
       "      <td>ALICE</td>\n",
       "      <td>TX</td>\n",
       "      <td>78333.0</td>\n",
       "      <td>41966.0</td>\n",
       "      <td>...</td>\n",
       "      <td>NaN</td>\n",
       "      <td>NaN</td>\n",
       "      <td>NaN</td>\n",
       "      <td>NaN</td>\n",
       "      <td>NaN</td>\n",
       "      <td>NaN</td>\n",
       "      <td>NaN</td>\n",
       "      <td>85-89</td>\n",
       "      <td>50%+</td>\n",
       "      <td>80%+</td>\n",
       "    </tr>\n",
       "    <tr>\n",
       "      <th>1</th>\n",
       "      <td>1</td>\n",
       "      <td>10271477</td>\n",
       "      <td>10499137</td>\n",
       "      <td>HOSPITAL</td>\n",
       "      <td>CHRISTUS Spohn Hospital - Alice</td>\n",
       "      <td>UNPAID</td>\n",
       "      <td>AGUA DULCE</td>\n",
       "      <td>TX</td>\n",
       "      <td>78330.0</td>\n",
       "      <td>42440.0</td>\n",
       "      <td>...</td>\n",
       "      <td>11.9</td>\n",
       "      <td>9.3</td>\n",
       "      <td>10.8</td>\n",
       "      <td>17.1</td>\n",
       "      <td>13.5</td>\n",
       "      <td>6.2</td>\n",
       "      <td>3.2</td>\n",
       "      <td>50-54</td>\n",
       "      <td>3-4.9%</td>\n",
       "      <td>56-58.9%</td>\n",
       "    </tr>\n",
       "    <tr>\n",
       "      <th>2</th>\n",
       "      <td>2</td>\n",
       "      <td>10271478</td>\n",
       "      <td>10921451</td>\n",
       "      <td>HOSPITAL</td>\n",
       "      <td>CHRISTUS Spohn Hospital - Alice</td>\n",
       "      <td>UNPAID</td>\n",
       "      <td>ALICE</td>\n",
       "      <td>TX</td>\n",
       "      <td>78332.0</td>\n",
       "      <td>41966.0</td>\n",
       "      <td>...</td>\n",
       "      <td>13.6</td>\n",
       "      <td>12.0</td>\n",
       "      <td>12.3</td>\n",
       "      <td>11.9</td>\n",
       "      <td>11.8</td>\n",
       "      <td>5.1</td>\n",
       "      <td>3.2</td>\n",
       "      <td>55-59</td>\n",
       "      <td>5-6.9%</td>\n",
       "      <td>56-58.9%</td>\n",
       "    </tr>\n",
       "    <tr>\n",
       "      <th>3</th>\n",
       "      <td>3</td>\n",
       "      <td>10271479</td>\n",
       "      <td>10921452</td>\n",
       "      <td>HOSPITAL</td>\n",
       "      <td>CHRISTUS Spohn Hospital - Alice</td>\n",
       "      <td>UNPAID</td>\n",
       "      <td>ALICE</td>\n",
       "      <td>TX</td>\n",
       "      <td>78332.0</td>\n",
       "      <td>41966.0</td>\n",
       "      <td>...</td>\n",
       "      <td>13.6</td>\n",
       "      <td>12.0</td>\n",
       "      <td>12.3</td>\n",
       "      <td>11.9</td>\n",
       "      <td>11.8</td>\n",
       "      <td>5.1</td>\n",
       "      <td>3.2</td>\n",
       "      <td>65-69</td>\n",
       "      <td>5-6.9%</td>\n",
       "      <td>56-58.9%</td>\n",
       "    </tr>\n",
       "    <tr>\n",
       "      <th>4</th>\n",
       "      <td>4</td>\n",
       "      <td>10271480</td>\n",
       "      <td>10921453</td>\n",
       "      <td>HOSPITAL</td>\n",
       "      <td>CHRISTUS Spohn Hospital - Alice</td>\n",
       "      <td>PIF</td>\n",
       "      <td>ALICE</td>\n",
       "      <td>TX</td>\n",
       "      <td>78332.0</td>\n",
       "      <td>41966.0</td>\n",
       "      <td>...</td>\n",
       "      <td>13.6</td>\n",
       "      <td>12.0</td>\n",
       "      <td>12.3</td>\n",
       "      <td>11.9</td>\n",
       "      <td>11.8</td>\n",
       "      <td>5.1</td>\n",
       "      <td>3.2</td>\n",
       "      <td>60-64</td>\n",
       "      <td>5-6.9%</td>\n",
       "      <td>56-58.9%</td>\n",
       "    </tr>\n",
       "  </tbody>\n",
       "</table>\n",
       "<p>5 rows × 37 columns</p>\n",
       "</div>"
      ],
      "text/plain": [
       "   Unnamed: 0  Account_ID  Entity_ID Seller_Type  \\\n",
       "0           0    10271476   10921449    HOSPITAL   \n",
       "1           1    10271477   10499137    HOSPITAL   \n",
       "2           2    10271478   10921451    HOSPITAL   \n",
       "3           3    10271479   10921452    HOSPITAL   \n",
       "4           4    10271480   10921453    HOSPITAL   \n",
       "\n",
       "                     Creditor_Name Closure_Type Entity_City Entity_State  \\\n",
       "0  CHRISTUS Spohn Hospital - Alice       UNPAID       ALICE           TX   \n",
       "1  CHRISTUS Spohn Hospital - Alice       UNPAID  AGUA DULCE           TX   \n",
       "2  CHRISTUS Spohn Hospital - Alice       UNPAID       ALICE           TX   \n",
       "3  CHRISTUS Spohn Hospital - Alice       UNPAID       ALICE           TX   \n",
       "4  CHRISTUS Spohn Hospital - Alice          PIF       ALICE           TX   \n",
       "\n",
       "   Entity_Zip  Median_Household_Income           ...            age_20s  \\\n",
       "0     78333.0                  41966.0           ...                NaN   \n",
       "1     78330.0                  42440.0           ...               11.9   \n",
       "2     78332.0                  41966.0           ...               13.6   \n",
       "3     78332.0                  41966.0           ...               13.6   \n",
       "4     78332.0                  41966.0           ...               13.6   \n",
       "\n",
       "   age_30s  age_40s  age_50s  age_60s age_70s age_over_80  Age_range  \\\n",
       "0      NaN      NaN      NaN      NaN     NaN         NaN      85-89   \n",
       "1      9.3     10.8     17.1     13.5     6.2         3.2      50-54   \n",
       "2     12.0     12.3     11.9     11.8     5.1         3.2      55-59   \n",
       "3     12.0     12.3     11.9     11.8     5.1         3.2      65-69   \n",
       "4     12.0     12.3     11.9     11.8     5.1         3.2      60-64   \n",
       "\n",
       "   Unemply_rate_range  Labor_force_part_range  \n",
       "0                50%+                    80%+  \n",
       "1              3-4.9%                56-58.9%  \n",
       "2              5-6.9%                56-58.9%  \n",
       "3              5-6.9%                56-58.9%  \n",
       "4              5-6.9%                56-58.9%  \n",
       "\n",
       "[5 rows x 37 columns]"
      ]
     },
     "execution_count": 5,
     "metadata": {},
     "output_type": "execute_result"
    }
   ],
   "source": [
    "data.head()"
   ]
  },
  {
   "cell_type": "code",
   "execution_count": 6,
   "metadata": {},
   "outputs": [
    {
     "data": {
      "text/plain": [
       "Index(['Unnamed: 0', 'Account_ID', 'Entity_ID', 'Seller_Type', 'Creditor_Name',\n",
       "       'Closure_Type', 'Entity_City', 'Entity_State', 'Entity_Zip',\n",
       "       'Median_Household_Income', 'Total_Paid', 'Number_of_payments',\n",
       "       'Percent_Paid', 'Invoice_bal', 'Age', 'Target', 'Income_level',\n",
       "       'Age_MedIncome', 'Invbal_MedIncome', 'Invbal_Age', 'Paid',\n",
       "       'unemployment_rate', 'labor_force_participation',\n",
       "       'education_highschool', 'education_college_or_above', 'home_value',\n",
       "       'rent_burden', 'age_20s', 'age_30s', 'age_40s', 'age_50s', 'age_60s',\n",
       "       'age_70s', 'age_over_80', 'Age_range', 'Unemply_rate_range',\n",
       "       'Labor_force_part_range'],\n",
       "      dtype='object')"
      ]
     },
     "execution_count": 6,
     "metadata": {},
     "output_type": "execute_result"
    }
   ],
   "source": [
    "data.columns"
   ]
  },
  {
   "cell_type": "code",
   "execution_count": 16,
   "metadata": {},
   "outputs": [],
   "source": [
    "# data.to_csv('Data_version_2.csv')"
   ]
  },
  {
   "cell_type": "code",
   "execution_count": 7,
   "metadata": {},
   "outputs": [
    {
     "data": {
      "text/plain": [
       "0    0.937042\n",
       "1    0.062958\n",
       "Name: Paid, dtype: float64"
      ]
     },
     "execution_count": 7,
     "metadata": {},
     "output_type": "execute_result"
    }
   ],
   "source": [
    "data.Paid.value_counts(normalize=True)"
   ]
  },
  {
   "cell_type": "markdown",
   "metadata": {},
   "source": [
    "# Creating dataset `paid` (SETTLE & PIF) and `unpaid `"
   ]
  },
  {
   "cell_type": "code",
   "execution_count": 6,
   "metadata": {},
   "outputs": [],
   "source": [
    "paid = data[(data.Closure_Type == 'SETTLE') | (data.Closure_Type == 'PIF')]"
   ]
  },
  {
   "cell_type": "code",
   "execution_count": 7,
   "metadata": {},
   "outputs": [
    {
     "data": {
      "text/plain": [
       "(556536, 37)"
      ]
     },
     "execution_count": 7,
     "metadata": {},
     "output_type": "execute_result"
    }
   ],
   "source": [
    "paid.shape"
   ]
  },
  {
   "cell_type": "code",
   "execution_count": 8,
   "metadata": {},
   "outputs": [],
   "source": [
    "paid.dropna(inplace=True)"
   ]
  },
  {
   "cell_type": "code",
   "execution_count": 9,
   "metadata": {},
   "outputs": [
    {
     "data": {
      "text/plain": [
       "(528285, 37)"
      ]
     },
     "execution_count": 9,
     "metadata": {},
     "output_type": "execute_result"
    }
   ],
   "source": [
    "paid.shape"
   ]
  },
  {
   "cell_type": "code",
   "execution_count": 10,
   "metadata": {},
   "outputs": [],
   "source": [
    "#creating a subset of data \n",
    "df_prep = paid.sample(n=50000, random_state=7)\n",
    "#reseting index \n",
    "df_prep.reset_index(inplace=True)"
   ]
  },
  {
   "cell_type": "code",
   "execution_count": 11,
   "metadata": {},
   "outputs": [
    {
     "data": {
      "text/plain": [
       "A    0.27158\n",
       "E    0.26214\n",
       "F    0.18496\n",
       "D    0.13928\n",
       "C    0.11548\n",
       "B    0.02656\n",
       "Name: Target, dtype: float64"
      ]
     },
     "execution_count": 11,
     "metadata": {},
     "output_type": "execute_result"
    }
   ],
   "source": [
    "df_prep.Target.value_counts(normalize=True)"
   ]
  },
  {
   "cell_type": "code",
   "execution_count": 19,
   "metadata": {},
   "outputs": [
    {
     "data": {
      "text/plain": [
       "Index(['index', 'Unnamed: 0', 'Account_ID', 'Entity_ID', 'Seller_Type',\n",
       "       'Creditor_Name', 'Closure_Type', 'Entity_City', 'Entity_State',\n",
       "       'Entity_Zip', 'Median_Household_Income', 'Total_Paid',\n",
       "       'Number_of_payments', 'Percent_Paid', 'Invoice_bal', 'Age', 'Target',\n",
       "       'Income_level', 'Age_MedIncome', 'Invbal_MedIncome', 'Invbal_Age',\n",
       "       'Paid', 'unemployment_rate', 'labor_force_participation',\n",
       "       'education_highschool', 'education_college_or_above', 'home_value',\n",
       "       'rent_burden', 'age_20s', 'age_30s', 'age_40s', 'age_50s', 'age_60s',\n",
       "       'age_70s', 'age_over_80', 'Age_range', 'Unemply_rate_range',\n",
       "       'Labor_force_part_range'],\n",
       "      dtype='object')"
      ]
     },
     "execution_count": 19,
     "metadata": {},
     "output_type": "execute_result"
    }
   ],
   "source": [
    "df_prep.columns"
   ]
  },
  {
   "cell_type": "code",
   "execution_count": 36,
   "metadata": {},
   "outputs": [],
   "source": [
    "drop_columns = ['index','Unnamed: 0','Account_ID', 'Entity_ID','Closure_Type', \n",
    "                'Entity_City', 'Entity_State', 'Entity_Zip',\n",
    "                'Total_Paid', 'Number_of_payments',\n",
    "                'Percent_Paid', 'Target','Paid','Creditor_Name', \n",
    "                'age_20s', 'age_30s', 'age_40s', 'age_50s', 'age_60s',\n",
    "                'age_70s', 'age_over_80']"
   ]
  },
  {
   "cell_type": "code",
   "execution_count": null,
   "metadata": {},
   "outputs": [],
   "source": []
  },
  {
   "cell_type": "code",
   "execution_count": 37,
   "metadata": {},
   "outputs": [],
   "source": [
    "#creating features to feed into predictors \n",
    "features = df_prep.drop(drop_columns, axis=1, inplace=False)\n",
    "#creating target variable (y)\n",
    "target = df_prep.Target \n",
    "#creating dummies, one-hot encode prior to standardizing \n",
    "predictors = pd.get_dummies(features)"
   ]
  },
  {
   "cell_type": "code",
   "execution_count": 38,
   "metadata": {},
   "outputs": [
    {
     "name": "stdout",
     "output_type": "stream",
     "text": [
      "--- 0.19127511978149414 seconds ---\n"
     ]
    }
   ],
   "source": [
    "import time\n",
    "start_time = time.time()\n",
    "\n",
    "#scaling features \n",
    "from sklearn.preprocessing import StandardScaler\n",
    "\n",
    "scaler = StandardScaler()\n",
    "scaled_features = scaler.fit_transform(predictors)\n",
    "\n",
    "\n",
    "from sklearn.pipeline import Pipeline \n",
    "from sklearn.decomposition import PCA\n",
    "from sklearn.ensemble import RandomForestClassifier, AdaBoostClassifier, GradientBoostingClassifier\n",
    "from sklearn.linear_model import LogisticRegression\n",
    "from sklearn.metrics import f1_score, roc_auc_score, auc, accuracy_score, classification_report, roc_curve, precision_score,recall_score\n",
    "from sklearn.model_selection import cross_val_score, GridSearchCV, train_test_split\n",
    "from sklearn.svm import SVC\n",
    "from sklearn import svm \n",
    "import warnings\n",
    "warnings.filterwarnings(\"ignore\")\n",
    "\n",
    "#spliting dataset\n",
    "X_train, X_test, y_train, y_test = train_test_split(scaled_features, target, random_state=10, test_size=0.3)\n",
    "\n",
    "print(\"--- %s seconds ---\" % (time.time() - start_time))"
   ]
  },
  {
   "cell_type": "code",
   "execution_count": 15,
   "metadata": {},
   "outputs": [
    {
     "name": "stdout",
     "output_type": "stream",
     "text": [
      "Number of features: 24\n"
     ]
    },
    {
     "data": {
      "text/plain": [
       "Index(['Seller_Type', 'Median_Household_Income', 'Invoice_bal', 'Age',\n",
       "       'Income_level', 'Age_MedIncome', 'Invbal_MedIncome', 'Invbal_Age',\n",
       "       'unemployment_rate', 'labor_force_participation',\n",
       "       'education_highschool', 'education_college_or_above', 'home_value',\n",
       "       'rent_burden', 'age_20s', 'age_30s', 'age_40s', 'age_50s', 'age_60s',\n",
       "       'age_70s', 'age_over_80', 'Age_range', 'Unemply_rate_range',\n",
       "       'Labor_force_part_range'],\n",
       "      dtype='object')"
      ]
     },
     "execution_count": 15,
     "metadata": {},
     "output_type": "execute_result"
    }
   ],
   "source": [
    "print('Number of features:',len(features.columns))\n",
    "features.columns"
   ]
  },
  {
   "cell_type": "markdown",
   "metadata": {},
   "source": [
    "# Model 1"
   ]
  },
  {
   "cell_type": "code",
   "execution_count": 16,
   "metadata": {},
   "outputs": [
    {
     "name": "stdout",
     "output_type": "stream",
     "text": [
      "Pipeline(memory=None,\n",
      "     steps=[('pca', PCA(copy=True, iterated_power='auto', n_components=14, random_state=123,\n",
      "  svd_solver='auto', tol=0.0, whiten=False)), ('clf', LogisticRegression(C=333.334, class_weight=None, dual=False,\n",
      "          fit_intercept=True, intercept_scaling=1, max_iter=100,\n",
      "          multi_class='warn', n_jobs=None, penalty='l1', random_state=123,\n",
      "          solver='warn', tol=0.0001, verbose=0, warm_start=False))])\n",
      "Pipeline(memory=None,\n",
      "     steps=[('pca', PCA(copy=True, iterated_power='auto', n_components=14, random_state=123,\n",
      "  svd_solver='auto', tol=0.0, whiten=False)), ('clf', LogisticRegression(C=333.334, class_weight=None, dual=False,\n",
      "          fit_intercept=True, intercept_scaling=1, max_iter=100,\n",
      "          multi_class='warn', n_jobs=None, penalty='l2', random_state=123,\n",
      "          solver='warn', tol=0.0001, verbose=0, warm_start=False))])\n",
      "Pipeline(memory=None,\n",
      "     steps=[('pca', PCA(copy=True, iterated_power='auto', n_components=14, random_state=123,\n",
      "  svd_solver='auto', tol=0.0, whiten=False)), ('clf', RandomForestClassifier(bootstrap=True, class_weight=None, criterion='gini',\n",
      "            max_depth=None, max_features=0.33, max_leaf_nodes=None,\n",
      "            mi...tors=200, n_jobs=None,\n",
      "            oob_score=False, random_state=123, verbose=0, warm_start=False))])\n",
      "LogReg Lasso pipeline train accuracy: 0.319\n",
      "LogReg Lasso pipeline test accuracy: 0.320\n",
      "LogReg Ridge pipeline train accuracy: 0.319\n",
      "LogReg Ridge pipeline test accuracy: 0.320\n",
      "Random Forest pipeline train accuracy: 0.937\n",
      "Random Forest pipeline test accuracy: 0.306\n",
      "--- 46.21998167037964 seconds ---\n"
     ]
    }
   ],
   "source": [
    "start_time = time.time() \n",
    "\n",
    "pipe_logreg_lasso = Pipeline([('pca', PCA(n_components=14, random_state=123)),\n",
    "                    ('clf', LogisticRegression(penalty= 'l1',C= 333.334, random_state=123))])\n",
    "pipe_logreg_ridge = Pipeline([('pca', PCA(n_components=14, random_state=123)),\n",
    "                    ('clf', LogisticRegression(penalty= 'l2',C= 333.334, random_state=123))])\n",
    "pipe_rf = Pipeline([('pca', PCA(n_components=14, random_state=123)), \n",
    "                   ('clf', RandomForestClassifier(max_features=0.33, n_estimators=200, random_state=123))])\n",
    "pipe_svm= Pipeline([('pca', PCA(n_components=14, random_state=123)), \n",
    "                   ('clf', svm.SVC(C=10, kernel='linear',random_state=123))])            \n",
    "                      \n",
    "                                                             \n",
    "# list pipelines, list of pipeline names\n",
    "pipelines =  [pipe_logreg_lasso, pipe_logreg_ridge, pipe_rf]\n",
    "names = ['LogReg Lasso', 'LogReg Ridge', 'Random Forest']\n",
    "pipe_Models = []\n",
    "\n",
    "# loop to fit each of the three pipelines\n",
    "for i in pipelines: \n",
    "    print(i)\n",
    "    i.fit(X_train, y_train);\n",
    "    \n",
    "for index, val in enumerate(pipelines): \n",
    "    print('%s pipeline train accuracy: %.3f' % (names[index], val.score(X_train, y_train)))\n",
    "    print('%s pipeline test accuracy: %.3f' % (names[index], val.score(X_test, y_test)))\n",
    "    \n",
    "    score = names[index], val.score(X_train, y_train), val.score(X_test, y_test), \n",
    "    pipe_Models.append(score)\n",
    "                        \n",
    "print(\"--- %s seconds ---\" % (time.time() - start_time))  "
   ]
  },
  {
   "cell_type": "code",
   "execution_count": 17,
   "metadata": {},
   "outputs": [
    {
     "data": {
      "text/plain": [
       "Train    0.524676\n",
       "Test     0.315333\n",
       "dtype: float64"
      ]
     },
     "execution_count": 17,
     "metadata": {},
     "output_type": "execute_result"
    }
   ],
   "source": [
    "#storing results in dataframe\n",
    "model = pd.DataFrame.from_records(pipe_Models,  columns=['Model', 'Train', 'Test'])\n",
    "model.mean()"
   ]
  },
  {
   "cell_type": "code",
   "execution_count": 18,
   "metadata": {},
   "outputs": [
    {
     "name": "stdout",
     "output_type": "stream",
     "text": [
      "LogReg Lasso:\n",
      "              precision    recall  f1-score   support\n",
      "\n",
      "           A       0.33      0.76      0.46      4095\n",
      "           B       0.00      0.00      0.00       413\n",
      "           C       0.00      0.00      0.00      1736\n",
      "           D       0.00      0.00      0.00      2078\n",
      "           E       0.30      0.41      0.34      3928\n",
      "           F       0.36      0.03      0.05      2750\n",
      "\n",
      "   micro avg       0.32      0.32      0.32     15000\n",
      "   macro avg       0.17      0.20      0.14     15000\n",
      "weighted avg       0.23      0.32      0.23     15000\n",
      "\n",
      "--------------------------------------------------------\n",
      "LogReg Ridge:\n",
      "              precision    recall  f1-score   support\n",
      "\n",
      "           A       0.33      0.76      0.46      4095\n",
      "           B       0.00      0.00      0.00       413\n",
      "           C       0.00      0.00      0.00      1736\n",
      "           D       0.00      0.00      0.00      2078\n",
      "           E       0.30      0.41      0.34      3928\n",
      "           F       0.36      0.03      0.05      2750\n",
      "\n",
      "   micro avg       0.32      0.32      0.32     15000\n",
      "   macro avg       0.17      0.20      0.14     15000\n",
      "weighted avg       0.23      0.32      0.23     15000\n",
      "\n",
      "--------------------------------------------------------\n",
      "Random Forest:\n",
      "              precision    recall  f1-score   support\n",
      "\n",
      "           A       0.36      0.53      0.43      4095\n",
      "           B       0.05      0.01      0.01       413\n",
      "           C       0.21      0.07      0.11      1736\n",
      "           D       0.19      0.09      0.12      2078\n",
      "           E       0.30      0.41      0.35      3928\n",
      "           F       0.25      0.19      0.22      2750\n",
      "\n",
      "   micro avg       0.31      0.31      0.31     15000\n",
      "   macro avg       0.23      0.21      0.20     15000\n",
      "weighted avg       0.28      0.31      0.28     15000\n",
      "\n",
      "--------------------------------------------------------\n"
     ]
    }
   ],
   "source": [
    "#printing our classification report for all models\n",
    "for index, val in enumerate(pipelines):\n",
    "    print(f'{names[index]}:')\n",
    "    print(classification_report(y_test, val.predict(X_test)))\n",
    "    print('--------------------------------------------------------')"
   ]
  },
  {
   "cell_type": "markdown",
   "metadata": {},
   "source": [
    "# Balancing data (SMOTE)"
   ]
  },
  {
   "cell_type": "code",
   "execution_count": 19,
   "metadata": {},
   "outputs": [],
   "source": [
    "from imblearn.over_sampling import SMOTE"
   ]
  },
  {
   "cell_type": "code",
   "execution_count": 39,
   "metadata": {},
   "outputs": [],
   "source": [
    "X_train, X_test, y_train, y_test = train_test_split(scaled_features, target,random_state=10, test_size=0.3)"
   ]
  },
  {
   "cell_type": "code",
   "execution_count": 40,
   "metadata": {},
   "outputs": [],
   "source": [
    "X_smote, y_smote = SMOTE().fit_sample(X_train, y_train)"
   ]
  },
  {
   "cell_type": "code",
   "execution_count": 41,
   "metadata": {},
   "outputs": [],
   "source": [
    "#perform normal train-test-split using our SMOTE data\n",
    "X_train, X_test, y_train, y_test = train_test_split(X_smote, y_smote, random_state= 10, test_size=0.3)"
   ]
  },
  {
   "cell_type": "markdown",
   "metadata": {},
   "source": [
    "# SMOTE Model"
   ]
  },
  {
   "cell_type": "markdown",
   "metadata": {},
   "source": [
    "l1 {'logisticregression__C': 111.11200000000001}\n",
    "l2 {'logisticregression__C': 0.001}\n",
    "rf {'randomforestclassifier__max_features': 'auto', 'randomforestclassifier__n_estimators': 100}\n",
    "gb {'gradientboostingclassifier__learning_rate': 0.1, 'gradientboostingclassifier__max_depth': 1, 'gradientboostingclassifier__n_estimators': 200}"
   ]
  },
  {
   "cell_type": "code",
   "execution_count": 42,
   "metadata": {},
   "outputs": [
    {
     "name": "stdout",
     "output_type": "stream",
     "text": [
      "Pipeline(memory=None,\n",
      "     steps=[('pca', PCA(copy=True, iterated_power='auto', n_components=14, random_state=123,\n",
      "  svd_solver='auto', tol=0.0, whiten=False)), ('clf', LogisticRegression(C=333.334, class_weight=None, dual=False,\n",
      "          fit_intercept=True, intercept_scaling=1, max_iter=100,\n",
      "          multi_class='warn', n_jobs=None, penalty='l1', random_state=123,\n",
      "          solver='warn', tol=0.0001, verbose=0, warm_start=False))])\n",
      "Pipeline(memory=None,\n",
      "     steps=[('pca', PCA(copy=True, iterated_power='auto', n_components=14, random_state=123,\n",
      "  svd_solver='auto', tol=0.0, whiten=False)), ('clf', LogisticRegression(C=333.334, class_weight=None, dual=False,\n",
      "          fit_intercept=True, intercept_scaling=1, max_iter=100,\n",
      "          multi_class='warn', n_jobs=None, penalty='l2', random_state=123,\n",
      "          solver='warn', tol=0.0001, verbose=0, warm_start=False))])\n",
      "Pipeline(memory=None,\n",
      "     steps=[('pca', PCA(copy=True, iterated_power='auto', n_components=14, random_state=123,\n",
      "  svd_solver='auto', tol=0.0, whiten=False)), ('clf', RandomForestClassifier(bootstrap=True, class_weight=None, criterion='gini',\n",
      "            max_depth=None, max_features='auto', max_leaf_nodes=None,\n",
      "            ...tors=100, n_jobs=None,\n",
      "            oob_score=False, random_state=123, verbose=0, warm_start=False))])\n",
      "LogReg Lasso pipeline train accuracy: 0.224\n",
      "LogReg Lasso pipeline test accuracy: 0.217\n",
      "LogReg Ridge pipeline train accuracy: 0.224\n",
      "LogReg Ridge pipeline test accuracy: 0.217\n",
      "Random Forest pipeline train accuracy: 0.907\n",
      "Random Forest pipeline test accuracy: 0.489\n",
      "--- 21.36383605003357 seconds ---\n"
     ]
    }
   ],
   "source": [
    "start_time = time.time()\n",
    "\n",
    "pipe_logreg_lasso = Pipeline([('pca', PCA(n_components=14, random_state=123)),\n",
    "                    ('clf', LogisticRegression(penalty= 'l1',C= 333.334, random_state=123))])\n",
    "pipe_logreg_ridge = Pipeline([('pca', PCA(n_components=14, random_state=123)),\n",
    "                    ('clf', LogisticRegression(penalty= 'l2',C= 333.334, random_state=123))])\n",
    "pipe_rf = Pipeline([('pca', PCA(n_components=14, random_state=123)), \n",
    "                   ('clf', RandomForestClassifier(max_features='auto', n_estimators=100, random_state=123))])\n",
    " \n",
    "                                         \n",
    "# list pipelines, list of pipeline names\n",
    "s_pipelines =  [pipe_logreg_lasso, pipe_logreg_ridge, pipe_rf]\n",
    "s_names = ['LogReg Lasso', 'LogReg Ridge', 'Random Forest']\n",
    "s_pipe_Model = []\n",
    "\n",
    "# loop to fit each of the three pipelines\n",
    "for i in s_pipelines: \n",
    "    print(i)\n",
    "    i.fit(X_train, y_train)\n",
    "    \n",
    "for index, val in enumerate(s_pipelines): \n",
    "    print('%s pipeline train accuracy: %.3f' % (s_names[index], val.score(X_train, y_train)))\n",
    "    print('%s pipeline test accuracy: %.3f' % (s_names[index], val.score(X_test, y_test)))\n",
    "    \n",
    "    score = s_names[index], val.score(X_train, y_train), val.score(X_test, y_test), \n",
    "    s_pipe_Model.append(score)\n",
    "                        \n",
    "print(\"--- %s seconds ---\" % (time.time() - start_time))                        \n",
    " "
   ]
  },
  {
   "cell_type": "code",
   "execution_count": 43,
   "metadata": {},
   "outputs": [
    {
     "name": "stdout",
     "output_type": "stream",
     "text": [
      "Train    0.451421\n",
      "Test     0.307716\n",
      "dtype: float64\n"
     ]
    },
    {
     "data": {
      "text/html": [
       "<div>\n",
       "<style scoped>\n",
       "    .dataframe tbody tr th:only-of-type {\n",
       "        vertical-align: middle;\n",
       "    }\n",
       "\n",
       "    .dataframe tbody tr th {\n",
       "        vertical-align: top;\n",
       "    }\n",
       "\n",
       "    .dataframe thead th {\n",
       "        text-align: right;\n",
       "    }\n",
       "</style>\n",
       "<table border=\"1\" class=\"dataframe\">\n",
       "  <thead>\n",
       "    <tr style=\"text-align: right;\">\n",
       "      <th></th>\n",
       "      <th>SMOTE_Model</th>\n",
       "      <th>Train</th>\n",
       "      <th>Test</th>\n",
       "    </tr>\n",
       "  </thead>\n",
       "  <tbody>\n",
       "    <tr>\n",
       "      <th>0</th>\n",
       "      <td>LogReg Lasso</td>\n",
       "      <td>0.223564</td>\n",
       "      <td>0.217198</td>\n",
       "    </tr>\n",
       "    <tr>\n",
       "      <th>1</th>\n",
       "      <td>LogReg Ridge</td>\n",
       "      <td>0.223564</td>\n",
       "      <td>0.217198</td>\n",
       "    </tr>\n",
       "    <tr>\n",
       "      <th>2</th>\n",
       "      <td>Random Forest</td>\n",
       "      <td>0.907135</td>\n",
       "      <td>0.488754</td>\n",
       "    </tr>\n",
       "  </tbody>\n",
       "</table>\n",
       "</div>"
      ],
      "text/plain": [
       "     SMOTE_Model     Train      Test\n",
       "0   LogReg Lasso  0.223564  0.217198\n",
       "1   LogReg Ridge  0.223564  0.217198\n",
       "2  Random Forest  0.907135  0.488754"
      ]
     },
     "execution_count": 43,
     "metadata": {},
     "output_type": "execute_result"
    }
   ],
   "source": [
    "s_model = pd.DataFrame.from_records(s_pipe_Model,  columns=['SMOTE_Model', 'Train', 'Test'])\n",
    "print(s_model.mean())\n",
    "s_model"
   ]
  },
  {
   "cell_type": "code",
   "execution_count": 44,
   "metadata": {},
   "outputs": [],
   "source": [
    "#creating function to convert list to tuple\n",
    "def convert(list): \n",
    "    return tuple(list) \n",
    "\n",
    "Models_mean = [model.mean(), s_model.mean()]\n",
    "Models_specs = []\n",
    "\n",
    "for i in Models_mean:\n",
    "    Models_specs.append(convert(i))\n",
    "    \n",
    "Models_data_mean = pd.DataFrame.from_records(Models_specs,  columns=['Train', 'Test'])"
   ]
  },
  {
   "cell_type": "code",
   "execution_count": 45,
   "metadata": {},
   "outputs": [
    {
     "data": {
      "text/html": [
       "<div>\n",
       "<style scoped>\n",
       "    .dataframe tbody tr th:only-of-type {\n",
       "        vertical-align: middle;\n",
       "    }\n",
       "\n",
       "    .dataframe tbody tr th {\n",
       "        vertical-align: top;\n",
       "    }\n",
       "\n",
       "    .dataframe thead th {\n",
       "        text-align: right;\n",
       "    }\n",
       "</style>\n",
       "<table border=\"1\" class=\"dataframe\">\n",
       "  <thead>\n",
       "    <tr style=\"text-align: right;\">\n",
       "      <th></th>\n",
       "      <th>Train</th>\n",
       "      <th>Test</th>\n",
       "      <th>Residual</th>\n",
       "    </tr>\n",
       "  </thead>\n",
       "  <tbody>\n",
       "    <tr>\n",
       "      <th>Model</th>\n",
       "      <td>0.524676</td>\n",
       "      <td>0.315333</td>\n",
       "      <td>-0.209343</td>\n",
       "    </tr>\n",
       "    <tr>\n",
       "      <th>SMOTE_Model</th>\n",
       "      <td>0.451421</td>\n",
       "      <td>0.307716</td>\n",
       "      <td>-0.143705</td>\n",
       "    </tr>\n",
       "  </tbody>\n",
       "</table>\n",
       "</div>"
      ],
      "text/plain": [
       "                Train      Test  Residual\n",
       "Model        0.524676  0.315333 -0.209343\n",
       "SMOTE_Model  0.451421  0.307716 -0.143705"
      ]
     },
     "execution_count": 45,
     "metadata": {},
     "output_type": "execute_result"
    }
   ],
   "source": [
    "#appending a Residual column \n",
    "Models_data_mean.index = np.arange(1, len(Models_data_mean) + 1)\n",
    "Models_data_mean['Residual'] = Models_data_mean.Test - Models_data_mean.Train\n",
    "Models_data_mean\n",
    "\n",
    "#setting index to model names\n",
    "Models_data_mean = Models_data_mean.set_index([pd.Index(['Model', 'SMOTE_Model'])])\n",
    "Models_data_mean"
   ]
  },
  {
   "cell_type": "code",
   "execution_count": 46,
   "metadata": {},
   "outputs": [
    {
     "name": "stdout",
     "output_type": "stream",
     "text": [
      "LogReg Lasso:\n",
      "              precision    recall  f1-score   support\n",
      "\n",
      "           A       0.24      0.55      0.34      2886\n",
      "           B       0.21      0.29      0.24      2903\n",
      "           C       0.18      0.06      0.10      2814\n",
      "           D       0.17      0.06      0.08      2826\n",
      "           E       0.17      0.08      0.11      2844\n",
      "           F       0.23      0.25      0.24      2799\n",
      "\n",
      "   micro avg       0.22      0.22      0.22     17072\n",
      "   macro avg       0.20      0.22      0.18     17072\n",
      "weighted avg       0.20      0.22      0.19     17072\n",
      "\n",
      "--------------------------------------------------------\n",
      "LogReg Ridge:\n",
      "              precision    recall  f1-score   support\n",
      "\n",
      "           A       0.24      0.55      0.34      2886\n",
      "           B       0.21      0.29      0.24      2903\n",
      "           C       0.18      0.06      0.10      2814\n",
      "           D       0.17      0.06      0.08      2826\n",
      "           E       0.17      0.08      0.11      2844\n",
      "           F       0.23      0.25      0.24      2799\n",
      "\n",
      "   micro avg       0.22      0.22      0.22     17072\n",
      "   macro avg       0.20      0.22      0.18     17072\n",
      "weighted avg       0.20      0.22      0.19     17072\n",
      "\n",
      "--------------------------------------------------------\n",
      "Random Forest:\n",
      "              precision    recall  f1-score   support\n",
      "\n",
      "           A       0.34      0.33      0.34      2886\n",
      "           B       0.76      0.89      0.82      2903\n",
      "           C       0.53      0.55      0.54      2814\n",
      "           D       0.50      0.49      0.49      2826\n",
      "           E       0.30      0.26      0.28      2844\n",
      "           F       0.42      0.40      0.41      2799\n",
      "\n",
      "   micro avg       0.49      0.49      0.49     17072\n",
      "   macro avg       0.47      0.49      0.48     17072\n",
      "weighted avg       0.47      0.49      0.48     17072\n",
      "\n",
      "--------------------------------------------------------\n"
     ]
    }
   ],
   "source": [
    "#printing our classification report for all models\n",
    "for index, val in enumerate(s_pipelines):\n",
    "    print(f'{s_names[index]}:')\n",
    "    print(classification_report(y_test, val.predict(X_test)))\n",
    "    print('--------------------------------------------------------')"
   ]
  },
  {
   "cell_type": "markdown",
   "metadata": {},
   "source": [
    "# Conclusions "
   ]
  },
  {
   "cell_type": "code",
   "execution_count": 47,
   "metadata": {},
   "outputs": [
    {
     "name": "stdout",
     "output_type": "stream",
     "text": [
      "--- 241.79118490219116 seconds ---\n"
     ]
    }
   ],
   "source": [
    "start_time\n",
    "\n",
    "forest = RandomForestClassifier(max_features=0.33, n_estimators=200, random_state=123)\n",
    "forest.fit(X_train, y_train)\n",
    "\n",
    "print(\"--- %s seconds ---\" % (time.time() - start_time))   "
   ]
  },
  {
   "cell_type": "code",
   "execution_count": 48,
   "metadata": {},
   "outputs": [],
   "source": [
    "rf_imp = forest.feature_importances_"
   ]
  },
  {
   "cell_type": "code",
   "execution_count": 49,
   "metadata": {},
   "outputs": [
    {
     "name": "stdout",
     "output_type": "stream",
     "text": [
      "Seller_Type = 72.5543872516558\n",
      "Median_Household_Income = 95.68509935336962\n",
      "Invoice_bal = 90.02828749363417\n",
      "Age = 98.37579118526436\n",
      "Income_level = 93.19329135629715\n",
      "Age_MedIncome = 100.0\n",
      "Invbal_MedIncome = 74.43874775825225\n",
      "Invbal_Age = 80.15504235266933\n",
      "unemployment_rate = 75.64115856109689\n",
      "labor_force_participation = 72.89549258591178\n",
      "education_highschool = 75.91228957844629\n",
      "education_college_or_above = 78.71270388266993\n",
      "home_value = 5.906348357479614\n",
      "rent_burden = 6.142657517908586\n",
      "Age_range = 0.010671621213230847\n",
      "Unemply_rate_range = 0.5304816100930988\n",
      "Labor_force_part_range = 0.1424819607362609\n",
      "\n",
      "\n"
     ]
    }
   ],
   "source": [
    "rf_list = []\n",
    "\n",
    "for name, importance in zip(features, 100*(rf_imp/ rf_imp.max())):\n",
    "    print(name, '=', importance)\n",
    "    rf_list.append(importance)\n",
    "    \n",
    "print('\\n')    \n",
    "\n"
   ]
  },
  {
   "cell_type": "code",
   "execution_count": 50,
   "metadata": {},
   "outputs": [],
   "source": [
    "ft = pd.DataFrame(features.columns)\n",
    "rf = pd.DataFrame(rf_list) \n",
    "\n",
    "random = pd.concat([ft, rf],axis=1)\n",
    "random.columns = ['features', 'coef']\n",
    "random = random.sort_values('coef', ascending=True)"
   ]
  },
  {
   "cell_type": "code",
   "execution_count": 55,
   "metadata": {},
   "outputs": [
    {
     "data": {
      "image/png": "[encoded data removed]",
      "text/plain": [
       "<Figure size 1296x720 with 1 Axes>"
      ]
     },
     "metadata": {
      "needs_background": "light"
     },
     "output_type": "display_data"
    }
   ],
   "source": [
    "plt.figure(figsize=(18,10))\n",
    "plt.barh(random.features, random.coef)\n",
    "plt.title('Random Forest Feature Importance', fontsize=20)\n",
    "plt.yticks(fontsize=16)\n",
    "plt.xticks(fontsize=16);"
   ]
  },
  {
   "cell_type": "code",
   "execution_count": null,
   "metadata": {},
   "outputs": [],
   "source": []
  },
  {
   "cell_type": "markdown",
   "metadata": {},
   "source": [
    "# GridSearch "
   ]
  },
  {
   "cell_type": "code",
   "execution_count": 59,
   "metadata": {},
   "outputs": [
    {
     "name": "stdout",
     "output_type": "stream",
     "text": [
      "--- 0.033032894134521484 seconds ---\n"
     ]
    },
    {
     "data": {
      "text/plain": [
       "{'l1': Pipeline(memory=None,\n",
       "      steps=[('standardscaler', StandardScaler(copy=True, with_mean=True, with_std=True)), ('logisticregression', LogisticRegression(C=1.0, class_weight=None, dual=False, fit_intercept=True,\n",
       "           intercept_scaling=1, max_iter=100, multi_class='warn',\n",
       "           n_jobs=None, penalty='l1', random_state=123, solver='warn',\n",
       "           tol=0.0001, verbose=0, warm_start=False))]),\n",
       " 'l2': Pipeline(memory=None,\n",
       "      steps=[('standardscaler', StandardScaler(copy=True, with_mean=True, with_std=True)), ('logisticregression', LogisticRegression(C=1.0, class_weight=None, dual=False, fit_intercept=True,\n",
       "           intercept_scaling=1, max_iter=100, multi_class='warn',\n",
       "           n_jobs=None, penalty='l2', random_state=123, solver='warn',\n",
       "           tol=0.0001, verbose=0, warm_start=False))]),\n",
       " 'rf': Pipeline(memory=None,\n",
       "      steps=[('standardscaler', StandardScaler(copy=True, with_mean=True, with_std=True)), ('randomforestclassifier', RandomForestClassifier(bootstrap=True, class_weight=None, criterion='gini',\n",
       "             max_depth=None, max_features='auto', max_leaf_nodes=None,\n",
       "             min_impurity_decrease=0.0, min...s='warn', n_jobs=None,\n",
       "             oob_score=False, random_state=123, verbose=0, warm_start=False))]),\n",
       " 'gb': Pipeline(memory=None,\n",
       "      steps=[('standardscaler', StandardScaler(copy=True, with_mean=True, with_std=True)), ('gradientboostingclassifier', GradientBoostingClassifier(criterion='friedman_mse', init=None,\n",
       "               learning_rate=0.1, loss='deviance', max_depth=3,\n",
       "               max_features=None, max_leaf_nodes=None,\n",
       "    ...    subsample=1.0, tol=0.0001, validation_fraction=0.1,\n",
       "               verbose=0, warm_start=False))])}"
      ]
     },
     "execution_count": 59,
     "metadata": {},
     "output_type": "execute_result"
    }
   ],
   "source": [
    "start_time = time.time()\n",
    "#spliting our data \n",
    "from sklearn.model_selection import train_test_split\n",
    "X_train, X_test, y_train, y_test = train_test_split(scaled_features, target, test_size=0.3)\n",
    "\n",
    "from sklearn.pipeline import make_pipeline\n",
    "\n",
    "#build pipelines\n",
    "\n",
    "#model pipelines \n",
    "pipelines = {'l1': make_pipeline(StandardScaler(),\n",
    "                                LogisticRegression(penalty='l1', random_state=123)),\n",
    "             'l2': make_pipeline(StandardScaler(),\n",
    "                                LogisticRegression(penalty='l2', random_state=123)),\n",
    "             'rf': make_pipeline(StandardScaler(),\n",
    "                                RandomForestClassifier(random_state=123)),\n",
    "             'gb': make_pipeline(StandardScaler(),\n",
    "                                GradientBoostingClassifier(random_state=123))\n",
    "            }\n",
    "print(\"--- %s seconds ---\" % (time.time() - start_time))  \n",
    "\n",
    "pipelines"
   ]
  },
  {
   "cell_type": "code",
   "execution_count": 61,
   "metadata": {},
   "outputs": [],
   "source": [
    "#declare hyperparameters\n",
    "#research proper range for each hyperparameter to allow for best performance in GridSearchCV\n",
    "l1_hp = {'logisticregression__C': np.linspace(1e-3, 1e3, 10)}\n",
    "l2_hp = {'logisticregression__C': np.linspace(1e-3, 1e3, 10)}\n",
    "rf_hp = {\n",
    "    'randomforestclassifier__n_estimators': [100, 200],\n",
    "    'randomforestclassifier__max_features': ['auto', 'sqrt', 0.33]\n",
    "    }\n",
    "gb_hp = {\n",
    "    'gradientboostingclassifier__n_estimators': [100, 200],\n",
    "    'gradientboostingclassifier__learning_rate': [0.05, 0.1, 0.2],\n",
    "    'gradientboostingclassifier__max_depth': [1, 3, 5]\n",
    "    }\n",
    "\n",
    "hyperparameters = {'l1': l1_hp,\n",
    "                   'l2': l2_hp,\n",
    "                   'rf': rf_hp,\n",
    "                   'gb': gb_hp\n",
    "                  }"
   ]
  },
  {
   "cell_type": "code",
   "execution_count": 62,
   "metadata": {},
   "outputs": [
    {
     "name": "stdout",
     "output_type": "stream",
     "text": [
      "l1 has been fitted.\n",
      "l2 has been fitted.\n",
      "rf has been fitted.\n",
      "gb has been fitted.\n",
      "--- 294.6104431152344 seconds ---\n"
     ]
    }
   ],
   "source": [
    "start_time = time.time()\n",
    "\n",
    "#fit and tune with cross-validation\n",
    "fitted_models = {}\n",
    "\n",
    "for name, pipeline in pipelines.items():\n",
    "    #Create cross-validation object from pipeline and hyperparameters\n",
    "    model = GridSearchCV(pipeline, hyperparameters[name], cv=7, n_jobs=-1)\n",
    "    \n",
    "    #Fit model on X_train, y_train\n",
    "    model.fit(X_train, y_train)\n",
    "    \n",
    "    # Store model in fitted_models[name] \n",
    "    fitted_models[name] = model\n",
    "    \n",
    "    # Print '{name} has been fitted'\n",
    "    print(name, 'has been fitted.')\n",
    "    \n",
    "print(\"--- %s seconds ---\" % (time.time() - start_time))  "
   ]
  },
  {
   "cell_type": "code",
   "execution_count": 63,
   "metadata": {},
   "outputs": [
    {
     "name": "stdout",
     "output_type": "stream",
     "text": [
      "l1 0.2923809523809524\n",
      "l2 0.29714285714285715\n",
      "rf 0.29095238095238096\n",
      "gb 0.3271428571428571\n"
     ]
    }
   ],
   "source": [
    "# evaluation metrics, printing best cross-validated score\n",
    "#represents different metrics depending on your machine learning task. \n",
    "\n",
    "for name, model in fitted_models.items():\n",
    "    print(name, model.best_score_)"
   ]
  },
  {
   "cell_type": "code",
   "execution_count": 64,
   "metadata": {},
   "outputs": [
    {
     "name": "stdout",
     "output_type": "stream",
     "text": [
      "l1 {'logisticregression__C': 111.11200000000001}\n",
      "l2 {'logisticregression__C': 0.001}\n",
      "rf {'randomforestclassifier__max_features': 'auto', 'randomforestclassifier__n_estimators': 100}\n",
      "gb {'gradientboostingclassifier__learning_rate': 0.1, 'gradientboostingclassifier__max_depth': 1, 'gradientboostingclassifier__n_estimators': 200}\n"
     ]
    }
   ],
   "source": [
    "#finding best parameters\n",
    "for name, model in fitted_models.items():\n",
    "    print(name, model.best_params_)"
   ]
  },
  {
   "cell_type": "code",
   "execution_count": null,
   "metadata": {},
   "outputs": [],
   "source": []
  },
  {
   "cell_type": "code",
   "execution_count": null,
   "metadata": {},
   "outputs": [],
   "source": []
  },
  {
   "cell_type": "code",
   "execution_count": null,
   "metadata": {},
   "outputs": [],
   "source": []
  },
  {
   "cell_type": "code",
   "execution_count": null,
   "metadata": {},
   "outputs": [],
   "source": []
  },
  {
   "cell_type": "code",
   "execution_count": null,
   "metadata": {},
   "outputs": [],
   "source": []
  },
  {
   "cell_type": "code",
   "execution_count": null,
   "metadata": {},
   "outputs": [],
   "source": []
  },
  {
   "cell_type": "code",
   "execution_count": null,
   "metadata": {},
   "outputs": [],
   "source": []
  },
  {
   "cell_type": "code",
   "execution_count": null,
   "metadata": {},
   "outputs": [],
   "source": []
  },
  {
   "cell_type": "code",
   "execution_count": 59,
   "metadata": {},
   "outputs": [],
   "source": [
    "pred_test = forest.predict(X_test)\n",
    "pred_train = forest.predict(X_train)"
   ]
  },
  {
   "cell_type": "code",
   "execution_count": 60,
   "metadata": {},
   "outputs": [],
   "source": [
    "conf_maxtrix_test = pd.crosstab(y_test,pd.Series(pred_test),rownames=['ACTUAL'],colnames=['PRED'])\n",
    "conf_maxtrix_train = pd.crosstab(y_train,pd.Series(pred_train),rownames=['ACTUAL'],colnames=['PRED'])"
   ]
  },
  {
   "cell_type": "code",
   "execution_count": 61,
   "metadata": {},
   "outputs": [
    {
     "data": {
      "text/html": [
       "<div>\n",
       "<style scoped>\n",
       "    .dataframe tbody tr th:only-of-type {\n",
       "        vertical-align: middle;\n",
       "    }\n",
       "\n",
       "    .dataframe tbody tr th {\n",
       "        vertical-align: top;\n",
       "    }\n",
       "\n",
       "    .dataframe thead th {\n",
       "        text-align: right;\n",
       "    }\n",
       "</style>\n",
       "<table border=\"1\" class=\"dataframe\">\n",
       "  <thead>\n",
       "    <tr style=\"text-align: right;\">\n",
       "      <th>PRED</th>\n",
       "      <th>0</th>\n",
       "      <th>1</th>\n",
       "    </tr>\n",
       "    <tr>\n",
       "      <th>ACTUAL</th>\n",
       "      <th></th>\n",
       "      <th></th>\n",
       "    </tr>\n",
       "  </thead>\n",
       "  <tbody>\n",
       "    <tr>\n",
       "      <th>0</th>\n",
       "      <td>8211</td>\n",
       "      <td>1683</td>\n",
       "    </tr>\n",
       "    <tr>\n",
       "      <th>1</th>\n",
       "      <td>1039</td>\n",
       "      <td>8758</td>\n",
       "    </tr>\n",
       "  </tbody>\n",
       "</table>\n",
       "</div>"
      ],
      "text/plain": [
       "PRED       0     1\n",
       "ACTUAL            \n",
       "0       8211  1683\n",
       "1       1039  8758"
      ]
     },
     "execution_count": 61,
     "metadata": {},
     "output_type": "execute_result"
    }
   ],
   "source": [
    "conf_maxtrix_test"
   ]
  },
  {
   "cell_type": "code",
   "execution_count": 62,
   "metadata": {},
   "outputs": [
    {
     "data": {
      "text/html": [
       "<div>\n",
       "<style scoped>\n",
       "    .dataframe tbody tr th:only-of-type {\n",
       "        vertical-align: middle;\n",
       "    }\n",
       "\n",
       "    .dataframe tbody tr th {\n",
       "        vertical-align: top;\n",
       "    }\n",
       "\n",
       "    .dataframe thead th {\n",
       "        text-align: right;\n",
       "    }\n",
       "</style>\n",
       "<table border=\"1\" class=\"dataframe\">\n",
       "  <thead>\n",
       "    <tr style=\"text-align: right;\">\n",
       "      <th>PRED</th>\n",
       "      <th>0</th>\n",
       "      <th>1</th>\n",
       "    </tr>\n",
       "    <tr>\n",
       "      <th>ACTUAL</th>\n",
       "      <th></th>\n",
       "      <th></th>\n",
       "    </tr>\n",
       "  </thead>\n",
       "  <tbody>\n",
       "    <tr>\n",
       "      <th>0</th>\n",
       "      <td>22909</td>\n",
       "      <td>14</td>\n",
       "    </tr>\n",
       "    <tr>\n",
       "      <th>1</th>\n",
       "      <td>32</td>\n",
       "      <td>22988</td>\n",
       "    </tr>\n",
       "  </tbody>\n",
       "</table>\n",
       "</div>"
      ],
      "text/plain": [
       "PRED        0      1\n",
       "ACTUAL              \n",
       "0       22909     14\n",
       "1          32  22988"
      ]
     },
     "execution_count": 62,
     "metadata": {},
     "output_type": "execute_result"
    }
   ],
   "source": [
    "conf_maxtrix_train"
   ]
  },
  {
   "cell_type": "code",
   "execution_count": 63,
   "metadata": {},
   "outputs": [
    {
     "data": {
      "text/plain": [
       "array([[0.25, 0.75]])"
      ]
     },
     "execution_count": 63,
     "metadata": {},
     "output_type": "execute_result"
    }
   ],
   "source": [
    "forest.predict_proba(X_test[1].reshape(1, -1))"
   ]
  },
  {
   "cell_type": "code",
   "execution_count": 65,
   "metadata": {},
   "outputs": [],
   "source": [
    "def confusion_matrix(labels, predictions):\n",
    "    conf_matrix = {\"TP\": 0, \"FP\": 0, \"TN\": 0, \"FN\": 0}\n",
    "    for ind, label in enumerate(labels):\n",
    "        pred = predictions[ind]\n",
    "        if label == 1:\n",
    "            # CASE: True Positive\n",
    "            if label == pred:\n",
    "                conf_matrix['TP'] += 1\n",
    "            # CASE: False Negative \n",
    "            else:\n",
    "                conf_matrix['FN'] += 1\n",
    "        else:\n",
    "            # CASE: True Negative\n",
    "            if label == pred:\n",
    "                conf_matrix['TN'] += 1\n",
    "            # CASE: False Positive\n",
    "            else:\n",
    "                conf_matrix['FP'] += 1\n",
    "    \n",
    "    return conf_matrix"
   ]
  },
  {
   "cell_type": "code",
   "execution_count": null,
   "metadata": {},
   "outputs": [],
   "source": [
    "import numpy as np\n",
    "import itertools\n",
    "import matplotlib.pyplot as plt\n",
    "% matplotlib inline\n",
    "\n",
    "def show_cf(y_true, y_pred, class_names=None, model_name=None):\n",
    "    cf = confusion_matrix(y_true, y_pred)\n",
    "    plt.imshow(cf, cmap=plt.cm.Blues)\n",
    "    \n",
    "    if model_name:\n",
    "        plt.title(\"Confusion Matrix: {}\".format(model_name))\n",
    "    else:\n",
    "        plt.title(\"Confusion Matrix\")\n",
    "    plt.ylabel('True Label')\n",
    "    plt.xlabel('Predicted Label')\n",
    "    \n",
    "    class_names = set(y_true)\n",
    "    tick_marks = np.arange(len(class_names))\n",
    "    if class_names:\n",
    "        plt.xticks(tick_marks, class_names)\n",
    "        plt.yticks(tick_marks, class_names)\n",
    "    \n",
    "    thresh = cf.max() / 2.\n",
    "    \n",
    "    for i, j in itertools.product(range(cf.shape[0]), range(cf.shape[1])):\n",
    "        plt.text(j, i, cf[i, j], horizontalalignment='center', color='white' if cf[i, j] > thresh else 'black')\n",
    "\n",
    "    plt.colorbar()"
   ]
  },
  {
   "cell_type": "markdown",
   "metadata": {},
   "source": [
    "Test size is 19,691 records or 30% of 50k"
   ]
  },
  {
   "cell_type": "code",
   "execution_count": 74,
   "metadata": {},
   "outputs": [
    {
     "name": "stdout",
     "output_type": "stream",
     "text": [
      "Test Count: [9894 9797]\n",
      "Train Count: [22923 23020]\n"
     ]
    }
   ],
   "source": [
    "print('Test Count:',np.bincount(y_test))\n",
    "print('Train Count:',np.bincount(y_train))"
   ]
  },
  {
   "cell_type": "code",
   "execution_count": 73,
   "metadata": {},
   "outputs": [
    {
     "data": {
      "text/plain": [
       "array([ 9250, 10441])"
      ]
     },
     "execution_count": 73,
     "metadata": {},
     "output_type": "execute_result"
    }
   ],
   "source": [
    "np.bincount(pred_test)"
   ]
  },
  {
   "cell_type": "code",
   "execution_count": 66,
   "metadata": {},
   "outputs": [
    {
     "data": {
      "text/plain": [
       "{'TP': 8758, 'FP': 1683, 'TN': 8211, 'FN': 1039}"
      ]
     },
     "execution_count": 66,
     "metadata": {},
     "output_type": "execute_result"
    }
   ],
   "source": [
    "confusion_matrix(y_test, pred_test)"
   ]
  },
  {
   "cell_type": "code",
   "execution_count": null,
   "metadata": {},
   "outputs": [],
   "source": []
  },
  {
   "cell_type": "code",
   "execution_count": null,
   "metadata": {},
   "outputs": [],
   "source": []
  },
  {
   "cell_type": "code",
   "execution_count": null,
   "metadata": {},
   "outputs": [],
   "source": []
  },
  {
   "cell_type": "markdown",
   "metadata": {},
   "source": [
    "# Testing New Data"
   ]
  },
  {
   "cell_type": "code",
   "execution_count": 75,
   "metadata": {},
   "outputs": [],
   "source": [
    "#creating a test data for \"Unseen\"\n",
    "test_data = data.sample(n=100000, random_state=123)\n",
    "#reseting index \n",
    "test_data.reset_index(inplace=True)\n"
   ]
  },
  {
   "cell_type": "code",
   "execution_count": 113,
   "metadata": {},
   "outputs": [],
   "source": [
    "#creating features to feed into predictors \n",
    "test_features = test_data.drop(drop_columns, axis=1, inplace=False)\n",
    "#creating target variable (y)\n",
    "y = test_data.Paid \n",
    "#creating dummies, one-hot encode prior to standardizing \n",
    "test_predictors = pd.get_dummies(test_features)\n",
    "\n",
    "\n",
    "scaler = StandardScaler()\n",
    "X = scaler.fit_transform(test_predictors)"
   ]
  },
  {
   "cell_type": "code",
   "execution_count": 114,
   "metadata": {},
   "outputs": [],
   "source": [
    "X, y = SMOTE().fit_sample(X, y)"
   ]
  },
  {
   "cell_type": "code",
   "execution_count": 115,
   "metadata": {},
   "outputs": [
    {
     "data": {
      "text/plain": [
       "RandomForestClassifier(bootstrap=True, class_weight=None, criterion='gini',\n",
       "            max_depth=None, max_features=0.33, max_leaf_nodes=None,\n",
       "            min_impurity_decrease=0.0, min_impurity_split=None,\n",
       "            min_samples_leaf=1, min_samples_split=2,\n",
       "            min_weight_fraction_leaf=0.0, n_estimators=200, n_jobs=None,\n",
       "            oob_score=False, random_state=123, verbose=0, warm_start=False)"
      ]
     },
     "execution_count": 115,
     "metadata": {},
     "output_type": "execute_result"
    }
   ],
   "source": [
    "forest = RandomForestClassifier(max_features=0.33, n_estimators=200, random_state=123)\n",
    "forest.fit(X, y)"
   ]
  },
  {
   "cell_type": "code",
   "execution_count": 116,
   "metadata": {},
   "outputs": [
    {
     "name": "stdout",
     "output_type": "stream",
     "text": [
      "Random Forrest Classifier:\n",
      "              precision    recall  f1-score   support\n",
      "\n",
      "           0       0.54      0.72      0.62      9894\n",
      "           1       0.57      0.38      0.46      9797\n",
      "\n",
      "   micro avg       0.55      0.55      0.55     19691\n",
      "   macro avg       0.56      0.55      0.54     19691\n",
      "weighted avg       0.56      0.55      0.54     19691\n",
      "\n",
      "---------------------------------------------------------\n"
     ]
    }
   ],
   "source": [
    "print('Random Forrest Classifier:')\n",
    "print(classification_report(y_test, forest.predict(X_test)))\n",
    "print('---------------------------------------------------------')"
   ]
  },
  {
   "cell_type": "code",
   "execution_count": 117,
   "metadata": {},
   "outputs": [],
   "source": [
    "pred_New_data = forest.predict(X)"
   ]
  },
  {
   "cell_type": "code",
   "execution_count": 118,
   "metadata": {},
   "outputs": [],
   "source": [
    "conf_maxtrix_test_data = pd.crosstab(y,pd.Series(pred_New_data),rownames=['ACTUAL'],colnames=['PRED'])"
   ]
  },
  {
   "cell_type": "code",
   "execution_count": 119,
   "metadata": {},
   "outputs": [
    {
     "data": {
      "text/plain": [
       "0    93726\n",
       "1     6274\n",
       "Name: Paid, dtype: int64"
      ]
     },
     "execution_count": 119,
     "metadata": {},
     "output_type": "execute_result"
    }
   ],
   "source": [
    "test_data.Paid.value_counts()"
   ]
  },
  {
   "cell_type": "code",
   "execution_count": 120,
   "metadata": {},
   "outputs": [
    {
     "data": {
      "text/html": [
       "<div>\n",
       "<style scoped>\n",
       "    .dataframe tbody tr th:only-of-type {\n",
       "        vertical-align: middle;\n",
       "    }\n",
       "\n",
       "    .dataframe tbody tr th {\n",
       "        vertical-align: top;\n",
       "    }\n",
       "\n",
       "    .dataframe thead th {\n",
       "        text-align: right;\n",
       "    }\n",
       "</style>\n",
       "<table border=\"1\" class=\"dataframe\">\n",
       "  <thead>\n",
       "    <tr style=\"text-align: right;\">\n",
       "      <th>PRED</th>\n",
       "      <th>0</th>\n",
       "      <th>1</th>\n",
       "    </tr>\n",
       "    <tr>\n",
       "      <th>ACTUAL</th>\n",
       "      <th></th>\n",
       "      <th></th>\n",
       "    </tr>\n",
       "  </thead>\n",
       "  <tbody>\n",
       "    <tr>\n",
       "      <th>0</th>\n",
       "      <td>93659</td>\n",
       "      <td>67</td>\n",
       "    </tr>\n",
       "    <tr>\n",
       "      <th>1</th>\n",
       "      <td>217</td>\n",
       "      <td>93509</td>\n",
       "    </tr>\n",
       "  </tbody>\n",
       "</table>\n",
       "</div>"
      ],
      "text/plain": [
       "PRED        0      1\n",
       "ACTUAL              \n",
       "0       93659     67\n",
       "1         217  93509"
      ]
     },
     "execution_count": 120,
     "metadata": {},
     "output_type": "execute_result"
    }
   ],
   "source": [
    "conf_maxtrix_test_data"
   ]
  },
  {
   "cell_type": "code",
   "execution_count": 125,
   "metadata": {},
   "outputs": [
    {
     "name": "stdout",
     "output_type": "stream",
     "text": [
      "[93876 93576]\n",
      "[93726 93726]\n"
     ]
    }
   ],
   "source": [
    "print(np.bincount(pred_New_data))\n",
    "print(np.bincount(y))"
   ]
  },
  {
   "cell_type": "code",
   "execution_count": 121,
   "metadata": {},
   "outputs": [
    {
     "data": {
      "text/plain": [
       "{'TP': 93509, 'FP': 67, 'TN': 93659, 'FN': 217}"
      ]
     },
     "execution_count": 121,
     "metadata": {},
     "output_type": "execute_result"
    }
   ],
   "source": [
    "confusion_matrix(y, pred_New_data)"
   ]
  },
  {
   "cell_type": "code",
   "execution_count": 122,
   "metadata": {},
   "outputs": [
    {
     "data": {
      "text/plain": [
       "array([[0.81, 0.19]])"
      ]
     },
     "execution_count": 122,
     "metadata": {},
     "output_type": "execute_result"
    }
   ],
   "source": [
    "forest.predict_proba(X[1].reshape(1, -1))"
   ]
  },
  {
   "cell_type": "markdown",
   "metadata": {},
   "source": [
    "# Test 2"
   ]
  },
  {
   "cell_type": "code",
   "execution_count": 89,
   "metadata": {},
   "outputs": [],
   "source": [
    "#creating a test data for \"Unseen\"\n",
    "test_2 = data.sample(n=10000, random_state=5)\n",
    "#reseting index \n",
    "test_2.reset_index(inplace=True)\n"
   ]
  },
  {
   "cell_type": "code",
   "execution_count": 91,
   "metadata": {},
   "outputs": [
    {
     "data": {
      "text/plain": [
       "0    9402\n",
       "1     598\n",
       "Name: Paid, dtype: int64"
      ]
     },
     "execution_count": 91,
     "metadata": {},
     "output_type": "execute_result"
    }
   ],
   "source": [
    "test_2.Paid.value_counts()"
   ]
  },
  {
   "cell_type": "code",
   "execution_count": 104,
   "metadata": {},
   "outputs": [],
   "source": [
    "#creating features to feed into predictors \n",
    "test_features = test_2.drop(drop_columns, axis=1, inplace=False)\n",
    "#creating target variable (y)\n",
    "y = test_2.Paid \n",
    "#creating dummies, one-hot encode prior to standardizing \n",
    "test_predictors = pd.get_dummies(test_features)\n",
    "\n",
    "\n",
    "scaler = StandardScaler()\n",
    "X = scaler.fit_transform(test_predictors)"
   ]
  },
  {
   "cell_type": "code",
   "execution_count": 105,
   "metadata": {},
   "outputs": [
    {
     "data": {
      "text/plain": [
       "RandomForestClassifier(bootstrap=True, class_weight=None, criterion='gini',\n",
       "            max_depth=None, max_features=0.33, max_leaf_nodes=None,\n",
       "            min_impurity_decrease=0.0, min_impurity_split=None,\n",
       "            min_samples_leaf=1, min_samples_split=2,\n",
       "            min_weight_fraction_leaf=0.0, n_estimators=200, n_jobs=None,\n",
       "            oob_score=False, random_state=123, verbose=0, warm_start=False)"
      ]
     },
     "execution_count": 105,
     "metadata": {},
     "output_type": "execute_result"
    }
   ],
   "source": [
    "forest = RandomForestClassifier(max_features=0.33, n_estimators=200, random_state=123)\n",
    "forest.fit(X, y)"
   ]
  },
  {
   "cell_type": "code",
   "execution_count": 106,
   "metadata": {},
   "outputs": [
    {
     "name": "stdout",
     "output_type": "stream",
     "text": [
      "Random Forrest Classifier:\n",
      "              precision    recall  f1-score   support\n",
      "\n",
      "           0       0.50      1.00      0.67      9894\n",
      "           1       0.00      0.00      0.00      9797\n",
      "\n",
      "   micro avg       0.50      0.50      0.50     19691\n",
      "   macro avg       0.25      0.50      0.33     19691\n",
      "weighted avg       0.25      0.50      0.34     19691\n",
      "\n",
      "---------------------------------------------------------\n"
     ]
    }
   ],
   "source": [
    "print('Random Forrest Classifier:')\n",
    "print(classification_report(y_test, forest.predict(X_test)))\n",
    "print('---------------------------------------------------------')"
   ]
  },
  {
   "cell_type": "code",
   "execution_count": 107,
   "metadata": {},
   "outputs": [],
   "source": [
    "pred_New_data = forest.predict(X)"
   ]
  },
  {
   "cell_type": "code",
   "execution_count": 108,
   "metadata": {},
   "outputs": [],
   "source": [
    "conf_maxtrix_test_data = pd.crosstab(y,pd.Series(pred_New_data),rownames=['ACTUAL'],colnames=['PRED'])"
   ]
  },
  {
   "cell_type": "code",
   "execution_count": 109,
   "metadata": {},
   "outputs": [
    {
     "data": {
      "text/plain": [
       "0    9402\n",
       "1     598\n",
       "Name: Paid, dtype: int64"
      ]
     },
     "execution_count": 109,
     "metadata": {},
     "output_type": "execute_result"
    }
   ],
   "source": [
    "test_2.Paid.value_counts()"
   ]
  },
  {
   "cell_type": "code",
   "execution_count": 110,
   "metadata": {},
   "outputs": [
    {
     "data": {
      "text/html": [
       "<div>\n",
       "<style scoped>\n",
       "    .dataframe tbody tr th:only-of-type {\n",
       "        vertical-align: middle;\n",
       "    }\n",
       "\n",
       "    .dataframe tbody tr th {\n",
       "        vertical-align: top;\n",
       "    }\n",
       "\n",
       "    .dataframe thead th {\n",
       "        text-align: right;\n",
       "    }\n",
       "</style>\n",
       "<table border=\"1\" class=\"dataframe\">\n",
       "  <thead>\n",
       "    <tr style=\"text-align: right;\">\n",
       "      <th>PRED</th>\n",
       "      <th>0</th>\n",
       "      <th>1</th>\n",
       "    </tr>\n",
       "    <tr>\n",
       "      <th>ACTUAL</th>\n",
       "      <th></th>\n",
       "      <th></th>\n",
       "    </tr>\n",
       "  </thead>\n",
       "  <tbody>\n",
       "    <tr>\n",
       "      <th>0</th>\n",
       "      <td>9401</td>\n",
       "      <td>1</td>\n",
       "    </tr>\n",
       "    <tr>\n",
       "      <th>1</th>\n",
       "      <td>8</td>\n",
       "      <td>590</td>\n",
       "    </tr>\n",
       "  </tbody>\n",
       "</table>\n",
       "</div>"
      ],
      "text/plain": [
       "PRED       0    1\n",
       "ACTUAL           \n",
       "0       9401    1\n",
       "1          8  590"
      ]
     },
     "execution_count": 110,
     "metadata": {},
     "output_type": "execute_result"
    }
   ],
   "source": [
    "conf_maxtrix_test_data"
   ]
  },
  {
   "cell_type": "code",
   "execution_count": 111,
   "metadata": {},
   "outputs": [
    {
     "data": {
      "text/plain": [
       "{'TP': 590, 'FP': 1, 'TN': 9401, 'FN': 8}"
      ]
     },
     "execution_count": 111,
     "metadata": {},
     "output_type": "execute_result"
    }
   ],
   "source": [
    "confusion_matrix(y, pred_New_data)"
   ]
  },
  {
   "cell_type": "code",
   "execution_count": 112,
   "metadata": {},
   "outputs": [
    {
     "data": {
      "text/plain": [
       "array([[0.955, 0.045]])"
      ]
     },
     "execution_count": 112,
     "metadata": {},
     "output_type": "execute_result"
    }
   ],
   "source": [
    "forest.predict_proba(X[1].reshape(1, -1))"
   ]
  },
  {
   "cell_type": "code",
   "execution_count": 93,
   "metadata": {},
   "outputs": [],
   "source": [
    "import numpy as np\n",
    "import itertools\n",
    "import matplotlib.pyplot as plt\n",
    "% matplotlib inline\n",
    "\n",
    "def show_cf(y_true, y_pred, class_names=None, model_name=None):\n",
    "    cf = confusion_matrix(y_true, y_pred)\n",
    "    plt.imshow(cf, cmap=plt.cm.Blues)\n",
    "    \n",
    "    if model_name:\n",
    "        plt.title(\"Confusion Matrix: {}\".format(model_name))\n",
    "    else:\n",
    "        plt.title(\"Confusion Matrix\")\n",
    "    plt.ylabel('True Label')\n",
    "    plt.xlabel('Predicted Label')\n",
    "    \n",
    "    class_names = set(y_true)\n",
    "    tick_marks = np.arange(len(class_names))\n",
    "    if class_names:\n",
    "        plt.xticks(tick_marks, class_names)\n",
    "        plt.yticks(tick_marks, class_names)\n",
    "    \n",
    "    thresh = cf.max() / 2.\n",
    "    \n",
    "    for i, j in itertools.product(range(cf.shape[0]), range(cf.shape[1])):\n",
    "        plt.text(j, i, cf[i, j], horizontalalignment='center', color='white' if cf[i, j] > thresh else 'black')\n",
    "\n",
    "    plt.colorbar()"
   ]
  },
  {
   "cell_type": "code",
   "execution_count": null,
   "metadata": {},
   "outputs": [],
   "source": [
    "show_cf(example_labels, example_preds)"
   ]
  },
  {
   "cell_type": "markdown",
   "metadata": {},
   "source": [
    "recall refers to the percentage of total relevant results correctly classified by your algorithm.\n",
    "\n",
    "Recall = TP / (TP + FN) "
   ]
  },
  {
   "cell_type": "code",
   "execution_count": null,
   "metadata": {},
   "outputs": [],
   "source": []
  }
 ],
 "metadata": {
  "kernelspec": {
   "display_name": "Python 3",
   "language": "python",
   "name": "python3"
  },
  "language_info": {
   "codemirror_mode": {
    "name": "ipython",
    "version": 3
   },
   "file_extension": ".py",
   "mimetype": "text/x-python",
   "name": "python",
   "nbconvert_exporter": "python",
   "pygments_lexer": "ipython3",
   "version": "3.6.6"
  },
  "toc": {
   "base_numbering": 1,
   "nav_menu": {},
   "number_sections": true,
   "sideBar": true,
   "skip_h1_title": false,
   "title_cell": "Table of Contents",
   "title_sidebar": "Contents",
   "toc_cell": false,
   "toc_position": {},
   "toc_section_display": true,
   "toc_window_display": false
  },
  "varInspector": {
   "cols": {
    "lenName": 16,
    "lenType": 16,
    "lenVar": 40
   },
   "kernels_config": {
    "python": {
     "delete_cmd_postfix": "",
     "delete_cmd_prefix": "del ",
     "library": "var_list.py",
     "varRefreshCmd": "print(var_dic_list())"
    },
    "r": {
     "delete_cmd_postfix": ") ",
     "delete_cmd_prefix": "rm(",
     "library": "var_list.r",
     "varRefreshCmd": "cat(var_dic_list()) "
    }
   },
   "types_to_exclude": [
    "module",
    "function",
    "builtin_function_or_method",
    "instance",
    "_Feature"
   ],
   "window_display": false
  }
 },
 "nbformat": 4,
 "nbformat_minor": 2
}
