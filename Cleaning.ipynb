{
 "cells": [
  {
   "cell_type": "code",
   "execution_count": 1,
   "metadata": {},
   "outputs": [],
   "source": [
    "import pandas as pd \n",
    "import numpy as np "
   ]
  },
  {
   "cell_type": "markdown",
   "metadata": {},
   "source": [
    "# Import datasets \n",
    "---"
   ]
  },
  {
   "cell_type": "code",
   "execution_count": 2,
   "metadata": {},
   "outputs": [],
   "source": [
    "data = pd.read_csv('Data_version_2.csv')\n",
    "data_simple_maps = pd.read_csv('uszips-Copy.csv')"
   ]
  },
  {
   "cell_type": "code",
   "execution_count": 3,
   "metadata": {},
   "outputs": [
    {
     "data": {
      "text/plain": [
       "Index(['Unnamed: 0', 'Account_ID', 'Entity_ID', 'Seller_Type', 'Creditor_Name',\n",
       "       'Closure_Type', 'Entity_City', 'Entity_State', 'Entity_Zip',\n",
       "       'Median_Household_Income', 'Total_Paid', 'Number_of_payments',\n",
       "       'Percent_Paid', 'Invoice_bal', 'Age', 'Target', 'Income_level',\n",
       "       'Age_MedIncome', 'Invbal_MedIncome', 'Invbal_Age', 'Paid'],\n",
       "      dtype='object')"
      ]
     },
     "execution_count": 3,
     "metadata": {},
     "output_type": "execute_result"
    }
   ],
   "source": [
    "data.columns"
   ]
  },
  {
   "cell_type": "code",
   "execution_count": 4,
   "metadata": {},
   "outputs": [
    {
     "data": {
      "text/plain": [
       "Index(['zip', 'lat', 'lng', 'city', 'state_id', 'state_name', 'zcta',\n",
       "       'parent_zcta', 'population', 'density', 'county_fips', 'county_name',\n",
       "       'all_county_weights', 'imprecise', 'military', 'timezone', 'age_median',\n",
       "       'age_under_10', 'age_10_to_19', 'age_20s', 'age_30s', 'age_40s',\n",
       "       'age_50s', 'age_60s', 'age_70s', 'age_over_80', 'male', 'female',\n",
       "       'married', 'divorced', 'never_married', 'widowed', 'family_size',\n",
       "       'family_dual_income', 'income_household_median',\n",
       "       'income_household_under_5', 'income_household_5_to_10',\n",
       "       'income_household_10_to_15', 'income_household_15_to_20',\n",
       "       'income_household_20_to_25', 'income_household_25_to_35',\n",
       "       'income_household_35_to_50', 'income_household_50_to_75',\n",
       "       'income_household_75_to_100', 'income_household_100_to_150',\n",
       "       'income_household_150_over', 'income_household_six_figure',\n",
       "       'income_individual_median', 'home_ownership', 'home_value',\n",
       "       'rent_median', 'rent_burden', 'education_less_highschool',\n",
       "       'education_highschool', 'education_some_college', 'education_bachelors',\n",
       "       'education_graduate', 'education_college_or_above',\n",
       "       'education_stem_degree', 'labor_force_participation',\n",
       "       'unemployment_rate', 'self_employed', 'farmer', 'race_white',\n",
       "       'race_black', 'race_asian', 'race_native', 'race_pacific', 'race_other',\n",
       "       'race_multiple', 'hispanic', 'disabled', 'poverty', 'limited_english',\n",
       "       'commute_time', 'health_uninsured', 'veteran', 'charitable_givers'],\n",
       "      dtype='object')"
      ]
     },
     "execution_count": 4,
     "metadata": {},
     "output_type": "execute_result"
    }
   ],
   "source": [
    "data_simple_maps.columns"
   ]
  },
  {
   "cell_type": "markdown",
   "metadata": {},
   "source": [
    "---\n",
    "**Added to data set:**\n",
    "- unemployment_rate\n",
    "- labor_force_participation - *The percentage of residents 16 or older in the labor force*\n",
    "- education_highschool\n",
    "- education_college_or_above\n",
    "- home_valuu - *The mdeian value of homes*\n",
    "- rent_burden - *The median paid by renters*\n",
    "- age_20s - *The percentage of residents aged 20-29*\n",
    "- age_30s\n",
    "- age_40s\n",
    "- age_50s\n",
    "- age_60s\n",
    "- age_70\n",
    "- age_over_80"
   ]
  },
  {
   "cell_type": "markdown",
   "metadata": {},
   "source": [
    "Below we're selecting the features we want to use, converting zip columns to string in order to merge, and merge the dataset using `Entity_Zip`"
   ]
  },
  {
   "cell_type": "code",
   "execution_count": 5,
   "metadata": {},
   "outputs": [],
   "source": [
    "data_select = data_simple_maps[['zip', 'unemployment_rate', 'labor_force_participation', 'education_highschool', 'education_college_or_above',\n",
    "                               'home_value', 'rent_burden', 'age_20s', 'age_30s', 'age_40s', 'age_50s', 'age_60s', 'age_70s', 'age_over_80']]"
   ]
  },
  {
   "cell_type": "code",
   "execution_count": 6,
   "metadata": {},
   "outputs": [],
   "source": [
    "data_select.columns = ['Entity_Zip', 'unemployment_rate', 'labor_force_participation', 'education_highschool', 'education_college_or_above',\n",
    "                               'home_value', 'rent_burden', 'age_20s', 'age_30s', 'age_40s', 'age_50s', 'age_60s', 'age_70s', 'age_over_80']"
   ]
  },
  {
   "cell_type": "code",
   "execution_count": 7,
   "metadata": {},
   "outputs": [
    {
     "name": "stderr",
     "output_type": "stream",
     "text": [
      "/anaconda3/envs/learn-env/lib/python3.6/site-packages/ipykernel_launcher.py:1: SettingWithCopyWarning: \n",
      "A value is trying to be set on a copy of a slice from a DataFrame.\n",
      "Try using .loc[row_indexer,col_indexer] = value instead\n",
      "\n",
      "See the caveats in the documentation: http://pandas.pydata.org/pandas-docs/stable/indexing.html#indexing-view-versus-copy\n",
      "  \"\"\"Entry point for launching an IPython kernel.\n"
     ]
    }
   ],
   "source": [
    "data_select['Entity_Zip'] = data_select.Entity_Zip.astype(float)\n",
    "data['Entity_Zip'] = data.Entity_Zip.astype(float)"
   ]
  },
  {
   "cell_type": "markdown",
   "metadata": {},
   "source": [
    "# Merged dataset \n",
    "---"
   ]
  },
  {
   "cell_type": "code",
   "execution_count": 8,
   "metadata": {},
   "outputs": [],
   "source": [
    "df = pd.merge(data, data_select, how='left',on='Entity_Zip', left_index=True)"
   ]
  },
  {
   "cell_type": "code",
   "execution_count": 9,
   "metadata": {},
   "outputs": [
    {
     "data": {
      "text/plain": [
       "Index(['Account_ID', 'Entity_ID', 'Seller_Type', 'Creditor_Name',\n",
       "       'Closure_Type', 'Entity_City', 'Entity_State', 'Entity_Zip',\n",
       "       'Median_Household_Income', 'Total_Paid', 'Number_of_payments',\n",
       "       'Percent_Paid', 'Invoice_bal', 'Age', 'Target', 'Income_level',\n",
       "       'Age_MedIncome', 'Invbal_MedIncome', 'Invbal_Age', 'Paid',\n",
       "       'unemployment_rate', 'labor_force_participation',\n",
       "       'education_highschool', 'education_college_or_above', 'home_value',\n",
       "       'rent_burden', 'age_20s', 'age_30s', 'age_40s', 'age_50s', 'age_60s',\n",
       "       'age_70s', 'age_over_80'],\n",
       "      dtype='object')"
      ]
     },
     "execution_count": 9,
     "metadata": {},
     "output_type": "execute_result"
    }
   ],
   "source": [
    "df.drop('Unnamed: 0', axis=1, inplace=True)\n",
    "df.columns "
   ]
  },
  {
   "cell_type": "code",
   "execution_count": 10,
   "metadata": {},
   "outputs": [
    {
     "data": {
      "text/plain": [
       "Account_ID                           0\n",
       "Entity_ID                            0\n",
       "Seller_Type                          0\n",
       "Creditor_Name                   131602\n",
       "Closure_Type                         0\n",
       "Entity_City                      10484\n",
       "Entity_State                     20559\n",
       "Entity_Zip                       30052\n",
       "Median_Household_Income              0\n",
       "Total_Paid                    11958488\n",
       "Number_of_payments            11958488\n",
       "Percent_Paid                  11958488\n",
       "Invoice_bal                          0\n",
       "Age                                  0\n",
       "Target                               0\n",
       "Income_level                         0\n",
       "Age_MedIncome                        0\n",
       "Invbal_MedIncome                     0\n",
       "Invbal_Age                           0\n",
       "Paid                                 0\n",
       "unemployment_rate               314145\n",
       "labor_force_participation       307319\n",
       "education_highschool            307848\n",
       "education_college_or_above      307848\n",
       "home_value                      467989\n",
       "rent_burden                     576216\n",
       "age_20s                         307319\n",
       "age_30s                         307319\n",
       "age_40s                         307319\n",
       "age_50s                         307319\n",
       "age_60s                         307319\n",
       "age_70s                         307319\n",
       "age_over_80                     307319\n",
       "dtype: int64"
      ]
     },
     "execution_count": 10,
     "metadata": {},
     "output_type": "execute_result"
    }
   ],
   "source": [
    "df.isna().sum()"
   ]
  },
  {
   "cell_type": "markdown",
   "metadata": {},
   "source": [
    "# Creating `Age_range` feature "
   ]
  },
  {
   "cell_type": "code",
   "execution_count": 11,
   "metadata": {},
   "outputs": [],
   "source": [
    "#creating a function to bin ages \n",
    "def age(row):\n",
    "    if row >= 18 and row <= 21:\n",
    "        return ('18-21')\n",
    "    elif row >= 22 and row <= 24:\n",
    "        return ('22-24')\n",
    "    elif row >= 25 and row <= 29:\n",
    "        return ('25-29')   \n",
    "    elif row >= 30 and row <= 34:\n",
    "        return ('30-34')\n",
    "    elif row >= 35 and row <= 39:\n",
    "        return ('35-39')\n",
    "    elif row >= 40 and row <= 44:\n",
    "        return ('40-44')\n",
    "    elif row >= 45 and row <= 49:\n",
    "        return ('45-49')\n",
    "    elif row >= 50 and row <= 54:\n",
    "        return ('50-54')\n",
    "    elif row >= 55 and row <= 59:\n",
    "        return ('55-59')\n",
    "    elif row >= 60 and row <= 64:\n",
    "        return ('60-64')\n",
    "    elif row >= 65 and row <= 69:\n",
    "        return ('65-69')\n",
    "    elif row >= 70 and row <= 74:\n",
    "        return ('70-74')\n",
    "    elif row >= 75 and row <= 79:\n",
    "        return ('75-79')\n",
    "    elif row >= 80 and row <= 84:\n",
    "        return ('80-84')\n",
    "    elif row >= 85 and row <= 89:\n",
    "        return ('85-89')\n",
    "    else: \n",
    "        return ('90 +')"
   ]
  },
  {
   "cell_type": "code",
   "execution_count": 12,
   "metadata": {},
   "outputs": [],
   "source": [
    "df['Age_range'] = df.Age.apply(age)"
   ]
  },
  {
   "cell_type": "code",
   "execution_count": 14,
   "metadata": {},
   "outputs": [
    {
     "data": {
      "text/plain": [
       "Index(['Account_ID', 'Entity_ID', 'Seller_Type', 'Creditor_Name',\n",
       "       'Closure_Type', 'Entity_City', 'Entity_State', 'Entity_Zip',\n",
       "       'Median_Household_Income', 'Total_Paid', 'Number_of_payments',\n",
       "       'Percent_Paid', 'Invoice_bal', 'Age', 'Target', 'Income_level',\n",
       "       'Age_MedIncome', 'Invbal_MedIncome', 'Invbal_Age', 'Paid',\n",
       "       'unemployment_rate', 'labor_force_participation',\n",
       "       'education_highschool', 'education_college_or_above', 'home_value',\n",
       "       'rent_burden', 'age_20s', 'age_30s', 'age_40s', 'age_50s', 'age_60s',\n",
       "       'age_70s', 'age_over_80', 'Age_range'],\n",
       "      dtype='object')"
      ]
     },
     "execution_count": 14,
     "metadata": {},
     "output_type": "execute_result"
    }
   ],
   "source": [
    "df.columns"
   ]
  },
  {
   "cell_type": "markdown",
   "metadata": {},
   "source": [
    "# Creating `Unemployment_range` feature "
   ]
  },
  {
   "cell_type": "code",
   "execution_count": 15,
   "metadata": {},
   "outputs": [],
   "source": [
    "#creating a function to bin ages \n",
    "def unemployment_rate(row):\n",
    "\n",
    "    if row >= 0 and row < 3: \n",
    "        return ('0-2.9%')\n",
    "    elif row >= 3 and row < 5:\n",
    "        return ('3-4.9%')\n",
    "    elif row >= 5 and row < 7: \n",
    "        return ('5-6.9%')\n",
    "    elif row >= 7 and row < 9: \n",
    "        return ('7-8.9%')\n",
    "    elif row >= 9 and row < 11: \n",
    "        return ('9-10.9%')\n",
    "    elif row >= 11 and row < 15: \n",
    "        return ('11-14.9%')\n",
    "    elif row >= 15 and row < 20: \n",
    "        return ('15-19.9%')\n",
    "    elif row >= 20 and row < 30:\n",
    "        return ('20-29.9%')\n",
    "    elif row >= 30 and row < 40: \n",
    "        return ('30-39.9%')\n",
    "    elif row >= 40 and row < 50: \n",
    "        return ('40-49.9%')\n",
    "    else: \n",
    "        return ('50%+')\n"
   ]
  },
  {
   "cell_type": "code",
   "execution_count": 16,
   "metadata": {},
   "outputs": [],
   "source": [
    "df['Unemply_rate_range'] = df.unemployment_rate.apply(unemployment_rate)"
   ]
  },
  {
   "cell_type": "code",
   "execution_count": 17,
   "metadata": {},
   "outputs": [
    {
     "data": {
      "text/plain": [
       "5-6.9%      3061677\n",
       "7-8.9%      2776066\n",
       "9-10.9%     2073470\n",
       "11-14.9%    1772217\n",
       "3-4.9%      1437990\n",
       "15-19.9%     708362\n",
       "50%+         316603\n",
       "20-29.9%     282468\n",
       "0-2.9%       253293\n",
       "30-39.9%      28197\n",
       "40-49.9%       3574\n",
       "Name: Unemply_rate_range, dtype: int64"
      ]
     },
     "execution_count": 17,
     "metadata": {},
     "output_type": "execute_result"
    }
   ],
   "source": [
    "df.Unemply_rate_range.value_counts()"
   ]
  },
  {
   "cell_type": "markdown",
   "metadata": {},
   "source": [
    "# Creating `Labor_force_part_range`"
   ]
  },
  {
   "cell_type": "code",
   "execution_count": 18,
   "metadata": {},
   "outputs": [],
   "source": [
    "#creating a function to bin ages \n",
    "def labor_force(row):\n",
    "\n",
    "    if row >= 0 and row < 20: \n",
    "        return ('lower_than_20')\n",
    "    elif row >= 20 and row < 30:\n",
    "        return ('20-29.9%')\n",
    "    elif row >= 30 and row < 40: \n",
    "        return ('30-39.9%')\n",
    "    elif row >= 40 and row < 50: \n",
    "        return ('40-49.9%')\n",
    "    elif row >= 50 and row < 53: \n",
    "        return ('50-52.9%')\n",
    "    elif row >= 53 and row < 56: \n",
    "        return ('53-55.9%')\n",
    "    elif row >= 56 and row < 59: \n",
    "        return ('56-58.9%')\n",
    "    elif row >= 59 and row < 62:\n",
    "        return ('59-61.9%')\n",
    "    elif row >= 62 and row < 65: \n",
    "        return ('62-64.9%')\n",
    "    elif row >= 65 and row < 68: \n",
    "        return ('65-67.9%')\n",
    "    elif row >= 68 and row < 71: \n",
    "        return ('68-70.9%')\n",
    "    elif row >= 71 and row < 74:\n",
    "        return ('71-73.9%')\n",
    "    elif row >= 74 and row < 77: \n",
    "        return ('74-76.9%')\n",
    "    elif row >= 77 and row < 80: \n",
    "        return ('77-79.9%')\n",
    "    else: \n",
    "        return ('80%+')"
   ]
  },
  {
   "cell_type": "code",
   "execution_count": 19,
   "metadata": {},
   "outputs": [],
   "source": [
    "df['Labor_force_part_range'] = df.labor_force_participation.apply(labor_force)"
   ]
  },
  {
   "cell_type": "markdown",
   "metadata": {},
   "source": [
    "# Creating `Education_College`"
   ]
  },
  {
   "cell_type": "code",
   "execution_count": 20,
   "metadata": {},
   "outputs": [],
   "source": [
    "#creating a function to bin ages \n",
    "def college(row):\n",
    "\n",
    "    if row >= 0 and row <= 5: \n",
    "        return ('0-5%')\n",
    "    elif row > 5 and row <= 10:\n",
    "        return ('5-10%')\n",
    "    elif row > 10 and row <= 15: \n",
    "        return ('10-15%')\n",
    "    elif row > 15 and row <= 20: \n",
    "        return ('15-20%')\n",
    "    elif row > 20 and row <= 25: \n",
    "        return ('20-25%')\n",
    "    elif row > 25 and row <= 30: \n",
    "        return ('25-30%')\n",
    "    elif row > 30 and row <= 35: \n",
    "        return ('30-35%')\n",
    "    elif row > 35 and row <= 40: \n",
    "        return ('35-40%')\n",
    "    elif row > 40 and row <= 45: \n",
    "        return ('40-45%')\n",
    "    elif row > 45 and row <= 50: \n",
    "        return ('45-50%')\n",
    "    elif row > 50 and row <= 55: \n",
    "        return ('50-55%')\n",
    "    elif row > 55 and row <= 60: \n",
    "        return ('55-60%')\n",
    "    elif row > 60 and row <= 65: \n",
    "        return ('60-65%')\n",
    "    elif row > 65 and row <= 70: \n",
    "        return ('65-70%')\n",
    "    else:\n",
    "        return ('70%+')"
   ]
  },
  {
   "cell_type": "code",
   "execution_count": 21,
   "metadata": {},
   "outputs": [],
   "source": [
    "df['Education_college'] = df.education_college_or_above.apply(college)"
   ]
  },
  {
   "cell_type": "markdown",
   "metadata": {},
   "source": [
    "# Creating `Education_Highschool"
   ]
  },
  {
   "cell_type": "code",
   "execution_count": 22,
   "metadata": {},
   "outputs": [],
   "source": [
    "def highschool(row):\n",
    "\n",
    "    if row >= 0 and row <= 5: \n",
    "        return ('0-5%')\n",
    "    elif row > 5 and row <= 10:\n",
    "        return ('5-10%')\n",
    "    elif row > 10 and row <= 15: \n",
    "        return ('10-15%')\n",
    "    elif row > 15 and row <= 20: \n",
    "        return ('15-20%')\n",
    "    elif row > 20 and row <= 25: \n",
    "        return ('20-25%')\n",
    "    elif row > 25 and row <= 30: \n",
    "        return ('25-30%')\n",
    "    elif row > 30 and row <= 35: \n",
    "        return ('30-35%')\n",
    "    elif row > 35 and row <= 40: \n",
    "        return ('35-40%')\n",
    "    elif row > 40 and row <= 45: \n",
    "        return ('40-45%')\n",
    "    elif row > 45 and row <= 50: \n",
    "        return ('45-50%')\n",
    "    elif row > 50 and row <= 55: \n",
    "        return ('50-55%')\n",
    "    elif row > 55 and row <= 60: \n",
    "        return ('55-60%')\n",
    "    elif row > 60 and row <= 65: \n",
    "        return ('60-65%')\n",
    "    elif row > 65 and row <= 70: \n",
    "        return ('65-70%')\n",
    "    else:\n",
    "        return ('70%+')"
   ]
  },
  {
   "cell_type": "code",
   "execution_count": 24,
   "metadata": {},
   "outputs": [],
   "source": [
    "df['Education_highschool'] = df.education_highschool.apply(highschool)"
   ]
  },
  {
   "cell_type": "markdown",
   "metadata": {},
   "source": [
    "# Save as new dataset "
   ]
  },
  {
   "cell_type": "code",
   "execution_count": 25,
   "metadata": {},
   "outputs": [],
   "source": [
    "df.to_csv('Data_June24.csv')"
   ]
  },
  {
   "cell_type": "code",
   "execution_count": null,
   "metadata": {},
   "outputs": [],
   "source": []
  }
 ],
 "metadata": {
  "kernelspec": {
   "display_name": "Python 3",
   "language": "python",
   "name": "python3"
  },
  "language_info": {
   "codemirror_mode": {
    "name": "ipython",
    "version": 3
   },
   "file_extension": ".py",
   "mimetype": "text/x-python",
   "name": "python",
   "nbconvert_exporter": "python",
   "pygments_lexer": "ipython3",
   "version": "3.6.6"
  },
  "toc": {
   "base_numbering": 1,
   "nav_menu": {},
   "number_sections": true,
   "sideBar": true,
   "skip_h1_title": false,
   "title_cell": "Table of Contents",
   "title_sidebar": "Contents",
   "toc_cell": false,
   "toc_position": {},
   "toc_section_display": true,
   "toc_window_display": false
  },
  "varInspector": {
   "cols": {
    "lenName": 16,
    "lenType": 16,
    "lenVar": 40
   },
   "kernels_config": {
    "python": {
     "delete_cmd_postfix": "",
     "delete_cmd_prefix": "del ",
     "library": "var_list.py",
     "varRefreshCmd": "print(var_dic_list())"
    },
    "r": {
     "delete_cmd_postfix": ") ",
     "delete_cmd_prefix": "rm(",
     "library": "var_list.r",
     "varRefreshCmd": "cat(var_dic_list()) "
    }
   },
   "types_to_exclude": [
    "module",
    "function",
    "builtin_function_or_method",
    "instance",
    "_Feature"
   ],
   "window_display": false
  }
 },
 "nbformat": 4,
 "nbformat_minor": 2
}
