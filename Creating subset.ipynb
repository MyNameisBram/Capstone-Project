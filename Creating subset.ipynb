{
 "cells": [
  {
   "cell_type": "markdown",
   "metadata": {},
   "source": [
    "# Creating subset of data"
   ]
  },
  {
   "cell_type": "code",
   "execution_count": 1,
   "metadata": {},
   "outputs": [],
   "source": [
    "import pandas as pd \n",
    "import numpy as np \n",
    "import matplotlib.pyplot as plt \n",
    "% matplotlib inline "
   ]
  },
  {
   "cell_type": "code",
   "execution_count": 4,
   "metadata": {},
   "outputs": [],
   "source": [
    "df = pd.read_csv('Data_June24.csv')"
   ]
  },
  {
   "cell_type": "code",
   "execution_count": 14,
   "metadata": {},
   "outputs": [],
   "source": [
    "df.drop('Unnamed: 0', axis=1, inplace=True)"
   ]
  },
  {
   "cell_type": "code",
   "execution_count": 18,
   "metadata": {},
   "outputs": [],
   "source": [
    "subset = df.sample(200000, random_state=123)"
   ]
  },
  {
   "cell_type": "code",
   "execution_count": 16,
   "metadata": {},
   "outputs": [
    {
     "data": {
      "text/plain": [
       "F    0.960995\n",
       "A    0.013740\n",
       "E    0.012070\n",
       "D    0.006365\n",
       "C    0.005400\n",
       "B    0.001430\n",
       "Name: Target, dtype: float64"
      ]
     },
     "execution_count": 16,
     "metadata": {},
     "output_type": "execute_result"
    }
   ],
   "source": [
    "subset.Target.value_counts(normalize=True)"
   ]
  },
  {
   "cell_type": "code",
   "execution_count": 17,
   "metadata": {},
   "outputs": [
    {
     "data": {
      "text/plain": [
       "Index(['Account_ID', 'Entity_ID', 'Seller_Type', 'Creditor_Name',\n",
       "       'Closure_Type', 'Entity_City', 'Entity_State', 'Entity_Zip',\n",
       "       'Median_Household_Income', 'Total_Paid', 'Number_of_payments',\n",
       "       'Percent_Paid', 'Invoice_bal', 'Age', 'Target', 'Income_level',\n",
       "       'Age_MedIncome', 'Invbal_MedIncome', 'Invbal_Age', 'Paid',\n",
       "       'unemployment_rate', 'labor_force_participation',\n",
       "       'education_highschool', 'education_college_or_above', 'home_value',\n",
       "       'rent_burden', 'age_20s', 'age_30s', 'age_40s', 'age_50s', 'age_60s',\n",
       "       'age_70s', 'age_over_80', 'Age_range', 'Unemply_rate_range',\n",
       "       'Labor_force_part_range', 'Education_college', 'Education_highschool'],\n",
       "      dtype='object')"
      ]
     },
     "execution_count": 17,
     "metadata": {},
     "output_type": "execute_result"
    }
   ],
   "source": [
    "subset.columns"
   ]
  },
  {
   "cell_type": "code",
   "execution_count": 19,
   "metadata": {},
   "outputs": [],
   "source": [
    "subset.to_csv('200k_subset_data.csv')"
   ]
  },
  {
   "cell_type": "code",
   "execution_count": 2,
   "metadata": {},
   "outputs": [],
   "source": [
    "df = pd.read_csv('paid_data.csv')"
   ]
  },
  {
   "cell_type": "code",
   "execution_count": 4,
   "metadata": {},
   "outputs": [
    {
     "data": {
      "text/plain": [
       "Index(['Account_ID', 'Entity_ID', 'Seller_Type', 'Creditor_Name',\n",
       "       'Closure_Type', 'Entity_City', 'Entity_State', 'Entity_Zip',\n",
       "       'Median_Household_Income', 'Total_Paid', 'Number_of_payments',\n",
       "       'Percent_Paid', 'Invoice_bal', 'Age', 'Target', 'Income_level',\n",
       "       'Age_MedIncome', 'Invbal_MedIncome', 'Invbal_Age', 'Paid',\n",
       "       'unemployment_rate', 'labor_force_participation',\n",
       "       'education_highschool', 'education_college_or_above', 'home_value',\n",
       "       'rent_burden', 'age_20s', 'age_30s', 'age_40s', 'age_50s', 'age_60s',\n",
       "       'age_70s', 'age_over_80', 'Age_range', 'Unemply_rate_range',\n",
       "       'Labor_force_part_range', 'Education_college', 'Education_highschool'],\n",
       "      dtype='object')"
      ]
     },
     "execution_count": 4,
     "metadata": {},
     "output_type": "execute_result"
    }
   ],
   "source": [
    "df.columns"
   ]
  },
  {
   "cell_type": "code",
   "execution_count": 6,
   "metadata": {},
   "outputs": [],
   "source": [
    "drop_columns = ['Account_ID', 'Entity_ID', 'Creditor_Name',\n",
    "       'Closure_Type', 'Entity_City', 'Entity_State', 'Entity_Zip',\n",
    "       'Median_Household_Income', 'Total_Paid', 'Number_of_payments',\n",
    "       'Percent_Paid', 'Invoice_bal', 'Age', 'Paid',\n",
    "       'unemployment_rate', 'labor_force_participation',\n",
    "       'education_highschool', 'education_college_or_above', 'home_value',\n",
    "       'rent_burden', 'age_20s', 'age_30s', 'age_40s', 'age_50s', 'age_60s',\n",
    "       'age_70s', 'age_over_80']"
   ]
  },
  {
   "cell_type": "code",
   "execution_count": 15,
   "metadata": {},
   "outputs": [
    {
     "data": {
      "text/html": [
       "<div>\n",
       "<style scoped>\n",
       "    .dataframe tbody tr th:only-of-type {\n",
       "        vertical-align: middle;\n",
       "    }\n",
       "\n",
       "    .dataframe tbody tr th {\n",
       "        vertical-align: top;\n",
       "    }\n",
       "\n",
       "    .dataframe thead th {\n",
       "        text-align: right;\n",
       "    }\n",
       "</style>\n",
       "<table border=\"1\" class=\"dataframe\">\n",
       "  <thead>\n",
       "    <tr style=\"text-align: right;\">\n",
       "      <th></th>\n",
       "      <th>Seller_Type</th>\n",
       "      <th>Target</th>\n",
       "      <th>Income_level</th>\n",
       "      <th>Age_MedIncome</th>\n",
       "      <th>Invbal_MedIncome</th>\n",
       "      <th>Invbal_Age</th>\n",
       "      <th>Age_range</th>\n",
       "      <th>Unemply_rate_range</th>\n",
       "      <th>Labor_force_part_range</th>\n",
       "      <th>Education_college</th>\n",
       "      <th>Education_highschool</th>\n",
       "    </tr>\n",
       "  </thead>\n",
       "  <tbody>\n",
       "    <tr>\n",
       "      <th>0</th>\n",
       "      <td>HOSPITAL</td>\n",
       "      <td>A</td>\n",
       "      <td>35k_to_50k</td>\n",
       "      <td>2.685824e+06</td>\n",
       "      <td>1.414128e+07</td>\n",
       "      <td>21566.080000</td>\n",
       "      <td>60-64</td>\n",
       "      <td>5-6.9%</td>\n",
       "      <td>56-58.9%</td>\n",
       "      <td>10-15%</td>\n",
       "      <td>35-40%</td>\n",
       "    </tr>\n",
       "    <tr>\n",
       "      <th>1</th>\n",
       "      <td>HOSPITAL</td>\n",
       "      <td>F</td>\n",
       "      <td>35k_to_50k</td>\n",
       "      <td>3.105484e+06</td>\n",
       "      <td>4.196600e+06</td>\n",
       "      <td>7400.000000</td>\n",
       "      <td>70-74</td>\n",
       "      <td>5-6.9%</td>\n",
       "      <td>56-58.9%</td>\n",
       "      <td>10-15%</td>\n",
       "      <td>35-40%</td>\n",
       "    </tr>\n",
       "    <tr>\n",
       "      <th>2</th>\n",
       "      <td>HOSPITAL</td>\n",
       "      <td>E</td>\n",
       "      <td>35k_to_50k</td>\n",
       "      <td>2.870144e+06</td>\n",
       "      <td>1.920306e+06</td>\n",
       "      <td>2740.480000</td>\n",
       "      <td>60-64</td>\n",
       "      <td>7-8.9%</td>\n",
       "      <td>59-61.9%</td>\n",
       "      <td>5-10%</td>\n",
       "      <td>35-40%</td>\n",
       "    </tr>\n",
       "    <tr>\n",
       "      <th>3</th>\n",
       "      <td>HOSPITAL</td>\n",
       "      <td>A</td>\n",
       "      <td>35k_to_50k</td>\n",
       "      <td>2.050234e+06</td>\n",
       "      <td>1.741589e+07</td>\n",
       "      <td>20274.679888</td>\n",
       "      <td>45-49</td>\n",
       "      <td>5-6.9%</td>\n",
       "      <td>56-58.9%</td>\n",
       "      <td>10-15%</td>\n",
       "      <td>35-40%</td>\n",
       "    </tr>\n",
       "    <tr>\n",
       "      <th>4</th>\n",
       "      <td>HOSPITAL</td>\n",
       "      <td>E</td>\n",
       "      <td>75k_to_100k</td>\n",
       "      <td>4.899480e+06</td>\n",
       "      <td>1.309080e+07</td>\n",
       "      <td>10944.000000</td>\n",
       "      <td>60-64</td>\n",
       "      <td>15-19.9%</td>\n",
       "      <td>40-49.9%</td>\n",
       "      <td>5-10%</td>\n",
       "      <td>30-35%</td>\n",
       "    </tr>\n",
       "  </tbody>\n",
       "</table>\n",
       "</div>"
      ],
      "text/plain": [
       "  Seller_Type Target Income_level  Age_MedIncome  Invbal_MedIncome  \\\n",
       "0    HOSPITAL      A   35k_to_50k   2.685824e+06      1.414128e+07   \n",
       "1    HOSPITAL      F   35k_to_50k   3.105484e+06      4.196600e+06   \n",
       "2    HOSPITAL      E   35k_to_50k   2.870144e+06      1.920306e+06   \n",
       "3    HOSPITAL      A   35k_to_50k   2.050234e+06      1.741589e+07   \n",
       "4    HOSPITAL      E  75k_to_100k   4.899480e+06      1.309080e+07   \n",
       "\n",
       "     Invbal_Age Age_range Unemply_rate_range Labor_force_part_range  \\\n",
       "0  21566.080000     60-64             5-6.9%               56-58.9%   \n",
       "1   7400.000000     70-74             5-6.9%               56-58.9%   \n",
       "2   2740.480000     60-64             7-8.9%               59-61.9%   \n",
       "3  20274.679888     45-49             5-6.9%               56-58.9%   \n",
       "4  10944.000000     60-64           15-19.9%               40-49.9%   \n",
       "\n",
       "  Education_college Education_highschool  \n",
       "0            10-15%               35-40%  \n",
       "1            10-15%               35-40%  \n",
       "2             5-10%               35-40%  \n",
       "3            10-15%               35-40%  \n",
       "4             5-10%               30-35%  "
      ]
     },
     "execution_count": 15,
     "metadata": {},
     "output_type": "execute_result"
    }
   ],
   "source": [
    "df.head()"
   ]
  },
  {
   "cell_type": "code",
   "execution_count": null,
   "metadata": {},
   "outputs": [],
   "source": []
  },
  {
   "cell_type": "code",
   "execution_count": 10,
   "metadata": {},
   "outputs": [],
   "source": [
    "data"
   ]
  },
  {
   "cell_type": "code",
   "execution_count": null,
   "metadata": {},
   "outputs": [],
   "source": []
  }
 ],
 "metadata": {
  "kernelspec": {
   "display_name": "Python 3",
   "language": "python",
   "name": "python3"
  },
  "language_info": {
   "codemirror_mode": {
    "name": "ipython",
    "version": 3
   },
   "file_extension": ".py",
   "mimetype": "text/x-python",
   "name": "python",
   "nbconvert_exporter": "python",
   "pygments_lexer": "ipython3",
   "version": "3.6.6"
  }
 },
 "nbformat": 4,
 "nbformat_minor": 2
}
