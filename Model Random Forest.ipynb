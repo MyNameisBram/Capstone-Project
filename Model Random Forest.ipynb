{
 "cells": [
  {
   "cell_type": "code",
   "execution_count": 1,
   "metadata": {},
   "outputs": [
    {
     "name": "stdout",
     "output_type": "stream",
     "text": [
      "Requirement already satisfied: pandas-profiling in /anaconda3/envs/learn-env/lib/python3.6/site-packages (1.4.2)\n",
      "Requirement already satisfied: pandas>=0.19 in /anaconda3/envs/learn-env/lib/python3.6/site-packages (from pandas-profiling) (0.23.4)\n",
      "Requirement already satisfied: jinja2>=2.8 in /anaconda3/envs/learn-env/lib/python3.6/site-packages (from pandas-profiling) (2.10)\n",
      "Requirement already satisfied: matplotlib>=1.4 in /anaconda3/envs/learn-env/lib/python3.6/site-packages (from pandas-profiling) (3.0.2)\n",
      "Requirement already satisfied: six>=1.9 in /anaconda3/envs/learn-env/lib/python3.6/site-packages (from pandas-profiling) (1.11.0)\n",
      "Requirement already satisfied: python-dateutil>=2.5.0 in /anaconda3/envs/learn-env/lib/python3.6/site-packages (from pandas>=0.19->pandas-profiling) (2.7.5)\n",
      "Requirement already satisfied: pytz>=2011k in /anaconda3/envs/learn-env/lib/python3.6/site-packages (from pandas>=0.19->pandas-profiling) (2018.5)\n",
      "Requirement already satisfied: numpy>=1.9.0 in /anaconda3/envs/learn-env/lib/python3.6/site-packages (from pandas>=0.19->pandas-profiling) (1.15.4)\n",
      "Requirement already satisfied: MarkupSafe>=0.23 in /anaconda3/envs/learn-env/lib/python3.6/site-packages (from jinja2>=2.8->pandas-profiling) (1.1.0)\n",
      "Requirement already satisfied: cycler>=0.10 in /anaconda3/envs/learn-env/lib/python3.6/site-packages (from matplotlib>=1.4->pandas-profiling) (0.10.0)\n",
      "Requirement already satisfied: kiwisolver>=1.0.1 in /anaconda3/envs/learn-env/lib/python3.6/site-packages (from matplotlib>=1.4->pandas-profiling) (1.0.1)\n",
      "Requirement already satisfied: pyparsing!=2.0.4,!=2.1.2,!=2.1.6,>=2.0.1 in /anaconda3/envs/learn-env/lib/python3.6/site-packages (from matplotlib>=1.4->pandas-profiling) (2.3.1)\n",
      "Requirement already satisfied: setuptools in /anaconda3/envs/learn-env/lib/python3.6/site-packages (from kiwisolver>=1.0.1->matplotlib>=1.4->pandas-profiling) (40.0.0)\n",
      "\u001b[31msmart-open 1.8.0 requires bz2file, which is not installed.\u001b[0m\n",
      "\u001b[31mnltk 3.4 requires singledispatch, which is not installed.\u001b[0m\n",
      "\u001b[31mtensorboard 1.6.0 has requirement bleach==1.5.0, but you'll have bleach 3.1.0 which is incompatible.\u001b[0m\n",
      "\u001b[33mYou are using pip version 10.0.1, however version 19.1.1 is available.\n",
      "You should consider upgrading via the 'pip install --upgrade pip' command.\u001b[0m\n"
     ]
    }
   ],
   "source": [
    "import pandas as pd \n",
    "import sys\n",
    "!{sys.executable} -m pip install pandas-profiling\n",
    "import pandas_profiling \n",
    "import numpy as np \n",
    "import matplotlib.pyplot as plt \n",
    "%matplotlib inline \n",
    "import warnings\n",
    "warnings.filterwarnings(\"ignore\")"
   ]
  },
  {
   "cell_type": "code",
   "execution_count": 2,
   "metadata": {},
   "outputs": [],
   "source": [
    "data = pd.read_csv('Data_subset.csv')"
   ]
  },
  {
   "cell_type": "code",
   "execution_count": 8,
   "metadata": {},
   "outputs": [],
   "source": [
    "#creating a subset of data \n",
    "df_prep = data.sample(n=50000, random_state=7)\n",
    "#reseting index \n",
    "df_prep.reset_index(inplace=True)"
   ]
  },
  {
   "cell_type": "code",
   "execution_count": 18,
   "metadata": {},
   "outputs": [],
   "source": [
    "drop_columns = ['Account_ID', 'Entity_ID', 'Creditor_Name',\n",
    "       'Closure_Type', 'Entity_City', 'Entity_State', 'Entity_Zip',\n",
    "       'Median_Household_Income', 'Total_Paid', 'Number_of_payments',\n",
    "       'Percent_Paid', 'Invoice_bal', 'Age',\n",
    "       'unemployment_rate', 'labor_force_participation',\n",
    "       'education_highschool', 'education_college_or_above', 'home_value',\n",
    "       'rent_burden', 'age_20s', 'age_30s', 'age_40s', 'age_50s', 'age_60s',\n",
    "       'age_70s', 'age_over_80','Target','index','Paid']"
   ]
  },
  {
   "cell_type": "code",
   "execution_count": 19,
   "metadata": {},
   "outputs": [],
   "source": [
    "#creating features to feed into predictors \n",
    "features = df_prep.drop(drop_columns, axis=1, inplace=False)\n",
    "#creating target variable (y)\n",
    "target = df_prep.Paid \n",
    "#creating dummies, one-hot encode prior to standardizing \n",
    "predictors = pd.get_dummies(features)"
   ]
  },
  {
   "cell_type": "code",
   "execution_count": 20,
   "metadata": {},
   "outputs": [
    {
     "data": {
      "text/plain": [
       "Index(['Seller_Type', 'Income_level', 'Age_MedIncome', 'Invbal_MedIncome',\n",
       "       'Invbal_Age', 'Age_range', 'Unemply_rate_range',\n",
       "       'Labor_force_part_range', 'Education_college', 'Education_highschool'],\n",
       "      dtype='object')"
      ]
     },
     "execution_count": 20,
     "metadata": {},
     "output_type": "execute_result"
    }
   ],
   "source": [
    "features.columns"
   ]
  },
  {
   "cell_type": "code",
   "execution_count": 21,
   "metadata": {},
   "outputs": [],
   "source": [
    "#scaling features \n",
    "from sklearn.preprocessing import StandardScaler\n",
    "\n",
    "scaler = StandardScaler()\n",
    "scaled_features = scaler.fit_transform(predictors)\n",
    "\n",
    "\n",
    "from sklearn.pipeline import Pipeline \n",
    "from sklearn.decomposition import PCA\n",
    "from sklearn.ensemble import RandomForestClassifier, AdaBoostClassifier, GradientBoostingClassifier\n",
    "from sklearn.linear_model import LogisticRegression\n",
    "from sklearn.metrics import f1_score, roc_auc_score, auc, accuracy_score, classification_report, roc_curve, precision_score,recall_score\n",
    "from sklearn.model_selection import cross_val_score, GridSearchCV, train_test_split\n",
    "from sklearn.svm import SVC\n",
    "from sklearn import svm \n",
    "import warnings\n",
    "warnings.filterwarnings(\"ignore\")"
   ]
  },
  {
   "cell_type": "code",
   "execution_count": 22,
   "metadata": {},
   "outputs": [],
   "source": [
    "X_train, X_test, y_train, y_test = train_test_split(scaled_features, target, random_state=10, test_size=0.3)\n"
   ]
  },
  {
   "cell_type": "code",
   "execution_count": 24,
   "metadata": {},
   "outputs": [
    {
     "name": "stdout",
     "output_type": "stream",
     "text": [
      "Pipeline(memory=None,\n",
      "     steps=[('pca', PCA(copy=True, iterated_power='auto', n_components=14, random_state=123,\n",
      "  svd_solver='auto', tol=0.0, whiten=False)), ('clf', RandomForestClassifier(bootstrap=True, class_weight=None, criterion='gini',\n",
      "            max_depth=None, max_features='auto', max_leaf_nodes=None,\n",
      "            ...tors=100, n_jobs=None,\n",
      "            oob_score=False, random_state=123, verbose=0, warm_start=False))])\n",
      "Random Forest pipeline train accuracy: 0.940\n",
      "Random Forest pipeline test accuracy: 0.936\n"
     ]
    }
   ],
   "source": [
    "pipe_rf = Pipeline([('pca', PCA(n_components=14, random_state=123)), \n",
    "                   ('clf', RandomForestClassifier(max_features='auto', n_estimators=100, random_state=123))])\n",
    "\n",
    "pipelines =  [pipe_rf]\n",
    "names = ['Random Forest']\n",
    "pipe_Model = []\n",
    "\n",
    "# loop to fit each of the three pipelines\n",
    "for i in pipelines: \n",
    "    print(i)\n",
    "    i.fit(X_train, y_train)\n",
    "    \n",
    "for index, val in enumerate(s_pipelines): \n",
    "    print('%s pipeline train accuracy: %.3f' % (names[index], val.score(X_train, y_train)))\n",
    "    print('%s pipeline test accuracy: %.3f' % (names[index], val.score(X_test, y_test)))\n",
    "    \n",
    "    score = names[index], val.score(X_train, y_train), val.score(X_test, y_test), \n",
    "    pipe_Model.append(score)\n",
    "                          "
   ]
  },
  {
   "cell_type": "code",
   "execution_count": 29,
   "metadata": {},
   "outputs": [
    {
     "data": {
      "text/html": [
       "<div>\n",
       "<style scoped>\n",
       "    .dataframe tbody tr th:only-of-type {\n",
       "        vertical-align: middle;\n",
       "    }\n",
       "\n",
       "    .dataframe tbody tr th {\n",
       "        vertical-align: top;\n",
       "    }\n",
       "\n",
       "    .dataframe thead th {\n",
       "        text-align: right;\n",
       "    }\n",
       "</style>\n",
       "<table border=\"1\" class=\"dataframe\">\n",
       "  <thead>\n",
       "    <tr style=\"text-align: right;\">\n",
       "      <th></th>\n",
       "      <th>Model</th>\n",
       "      <th>Train</th>\n",
       "      <th>Test</th>\n",
       "    </tr>\n",
       "  </thead>\n",
       "  <tbody>\n",
       "    <tr>\n",
       "      <th>0</th>\n",
       "      <td>Random Forest</td>\n",
       "      <td>0.940486</td>\n",
       "      <td>0.936</td>\n",
       "    </tr>\n",
       "  </tbody>\n",
       "</table>\n",
       "</div>"
      ],
      "text/plain": [
       "           Model     Train   Test\n",
       "0  Random Forest  0.940486  0.936"
      ]
     },
     "execution_count": 29,
     "metadata": {},
     "output_type": "execute_result"
    }
   ],
   "source": [
    "s_model = pd.DataFrame.from_records(pipe_Model,  columns=['Model', 'Train', 'Test'])\n",
    "s_model"
   ]
  },
  {
   "cell_type": "code",
   "execution_count": 27,
   "metadata": {},
   "outputs": [
    {
     "name": "stdout",
     "output_type": "stream",
     "text": [
      "Random Forest:\n",
      "              precision    recall  f1-score   support\n",
      "\n",
      "           0       0.94      1.00      0.97     14053\n",
      "           1       0.12      0.00      0.00       947\n",
      "\n",
      "   micro avg       0.94      0.94      0.94     15000\n",
      "   macro avg       0.53      0.50      0.49     15000\n",
      "weighted avg       0.89      0.94      0.91     15000\n",
      "\n",
      "--------------------------------------------------------\n"
     ]
    }
   ],
   "source": [
    "#printing our classification report for all models\n",
    "for index, val in enumerate(pipelines):\n",
    "    print(f'{names[index]}:')\n",
    "    print(classification_report(y_test, val.predict(X_test)))\n",
    "    print('--------------------------------------------------------')"
   ]
  },
  {
   "cell_type": "markdown",
   "metadata": {},
   "source": [
    "# SMOTE Model "
   ]
  },
  {
   "cell_type": "code",
   "execution_count": 30,
   "metadata": {},
   "outputs": [],
   "source": [
    "from imblearn.over_sampling import SMOTE "
   ]
  },
  {
   "cell_type": "code",
   "execution_count": 31,
   "metadata": {},
   "outputs": [],
   "source": [
    "X_smote, y_smote = SMOTE().fit_sample(X_train, y_train)"
   ]
  },
  {
   "cell_type": "code",
   "execution_count": 32,
   "metadata": {},
   "outputs": [],
   "source": [
    "X_train_smote, X_test_smote, y_train_smote, y_test_smote = train_test_split(X_smote, y_smote, random_state= 10, test_size=0.3)"
   ]
  },
  {
   "cell_type": "code",
   "execution_count": 34,
   "metadata": {},
   "outputs": [
    {
     "name": "stdout",
     "output_type": "stream",
     "text": [
      "Pipeline(memory=None,\n",
      "     steps=[('pca', PCA(copy=True, iterated_power='auto', n_components=14, random_state=123,\n",
      "  svd_solver='auto', tol=0.0, whiten=False)), ('clf', RandomForestClassifier(bootstrap=True, class_weight=None, criterion='gini',\n",
      "            max_depth=None, max_features='auto', max_leaf_nodes=None,\n",
      "            ...tors=100, n_jobs=None,\n",
      "            oob_score=False, random_state=123, verbose=0, warm_start=False))])\n",
      "Random Forest pipeline train accuracy: 0.944\n",
      "Random Forest pipeline test accuracy: 0.869\n"
     ]
    }
   ],
   "source": [
    "pipe_rf = Pipeline([('pca', PCA(n_components=14, random_state=123)), \n",
    "                   ('clf', RandomForestClassifier(max_features='auto', n_estimators=100, random_state=123))])\n",
    "\n",
    "s_pipelines =  [pipe_rf]\n",
    "s_names = ['Random Forest']\n",
    "s_pipe_Model = []\n",
    "\n",
    "# loop to fit each of the three pipelines\n",
    "for i in s_pipelines: \n",
    "    print(i)\n",
    "    i.fit(X_train_smote, y_train_smote)\n",
    "    \n",
    "for index, val in enumerate(s_pipelines): \n",
    "    print('%s pipeline train accuracy: %.3f' % (s_names[index], val.score(X_train_smote, y_train_smote)))\n",
    "    print('%s pipeline test accuracy: %.3f' % (s_names[index], val.score(X_test_smote, y_test_smote)))\n",
    "    \n",
    "    score = s_names[index], val.score(X_train_smote, y_train_smote), val.score(X_test_smote, y_test_smote), \n",
    "    s_pipe_Model.append(score)"
   ]
  },
  {
   "cell_type": "code",
   "execution_count": 35,
   "metadata": {},
   "outputs": [
    {
     "name": "stdout",
     "output_type": "stream",
     "text": [
      "Random Forest:\n",
      "              precision    recall  f1-score   support\n",
      "\n",
      "           0       0.94      0.87      0.91     14053\n",
      "           1       0.10      0.20      0.13       947\n",
      "\n",
      "   micro avg       0.83      0.83      0.83     15000\n",
      "   macro avg       0.52      0.54      0.52     15000\n",
      "weighted avg       0.89      0.83      0.86     15000\n",
      "\n",
      "--------------------------------------------------------\n"
     ]
    }
   ],
   "source": [
    "#printing our classification report for all models\n",
    "for index, val in enumerate(s_pipelines):\n",
    "    print(f'{s_names[index]}:')\n",
    "    print(classification_report(y_test, val.predict(X_test)))\n",
    "    print('--------------------------------------------------------')"
   ]
  },
  {
   "cell_type": "code",
   "execution_count": null,
   "metadata": {},
   "outputs": [],
   "source": []
  },
  {
   "cell_type": "markdown",
   "metadata": {},
   "source": [
    "# Feature Importance "
   ]
  },
  {
   "cell_type": "code",
   "execution_count": 36,
   "metadata": {},
   "outputs": [],
   "source": [
    "rf = RandomForestClassifier(max_features='auto', n_estimators=100, random_state=123)\n",
    "rf.fit(X_train_smote, y_train_smote);"
   ]
  },
  {
   "cell_type": "code",
   "execution_count": 37,
   "metadata": {},
   "outputs": [],
   "source": [
    "rf_imp = rf.feature_importances_"
   ]
  },
  {
   "cell_type": "code",
   "execution_count": 38,
   "metadata": {},
   "outputs": [
    {
     "name": "stdout",
     "output_type": "stream",
     "text": [
      "Seller_Type = 87.8526740943831\n",
      "Income_level = 100.0\n",
      "Age_MedIncome = 97.82959470480677\n",
      "Invbal_MedIncome = 31.12100782461909\n",
      "Invbal_Age = 29.5004035602147\n",
      "Age_range = 0.013194041488135877\n",
      "Unemply_rate_range = 0.7904665665253179\n",
      "Labor_force_part_range = 0.2657172504614602\n",
      "Education_college = 8.163216574229528\n",
      "Education_highschool = 44.685582463730896\n"
     ]
    }
   ],
   "source": [
    "rf_list = []\n",
    "\n",
    "for name, importance in zip(features, 100*(rf_imp/ rf_imp.max())):\n",
    "    print(name, '=', importance)\n",
    "    rf_list.append(importance)"
   ]
  },
  {
   "cell_type": "code",
   "execution_count": 39,
   "metadata": {},
   "outputs": [],
   "source": [
    "ft = pd.DataFrame(features.columns)\n",
    "forest = pd.DataFrame(rf_list) \n",
    "\n",
    "random = pd.concat([ft, forest],axis=1)\n",
    "random.columns = ['features', 'coef']\n",
    "random = random.sort_values('coef', ascending=True)"
   ]
  },
  {
   "cell_type": "code",
   "execution_count": 40,
   "metadata": {},
   "outputs": [
    {
     "data": {
      "image/png": "[encoded data removed]",
      "text/plain": [
       "<Figure size 1296x720 with 1 Axes>"
      ]
     },
     "metadata": {
      "needs_background": "light"
     },
     "output_type": "display_data"
    }
   ],
   "source": [
    "plt.figure(figsize=(18,10))\n",
    "plt.barh(random.features, random.coef)\n",
    "plt.title('Random Forest Feature Importance', fontsize=20)\n",
    "plt.yticks(fontsize=16)\n",
    "plt.xticks(fontsize=16);"
   ]
  },
  {
   "cell_type": "markdown",
   "metadata": {},
   "source": [
    "# SMOTE - Part 2"
   ]
  },
  {
   "cell_type": "code",
   "execution_count": 41,
   "metadata": {},
   "outputs": [
    {
     "data": {
      "text/plain": [
       "RandomForestClassifier(bootstrap=True, class_weight=None, criterion='gini',\n",
       "            max_depth=None, max_features=0.33, max_leaf_nodes=None,\n",
       "            min_impurity_decrease=0.0, min_impurity_split=None,\n",
       "            min_samples_leaf=1, min_samples_split=2,\n",
       "            min_weight_fraction_leaf=0.0, n_estimators=200, n_jobs=None,\n",
       "            oob_score=False, random_state=123, verbose=0, warm_start=False)"
      ]
     },
     "execution_count": 41,
     "metadata": {},
     "output_type": "execute_result"
    }
   ],
   "source": [
    "forest = RandomForestClassifier(max_features=0.33, n_estimators=200, random_state=123)\n",
    "forest.fit(X_train_smote, y_train_smote)"
   ]
  },
  {
   "cell_type": "code",
   "execution_count": 42,
   "metadata": {},
   "outputs": [
    {
     "name": "stdout",
     "output_type": "stream",
     "text": [
      "Random Forrest Classifier:\n",
      "              precision    recall  f1-score   support\n",
      "\n",
      "           0       0.94      0.98      0.96     14053\n",
      "           1       0.13      0.05      0.07       947\n",
      "\n",
      "   micro avg       0.92      0.92      0.92     15000\n",
      "   macro avg       0.53      0.51      0.51     15000\n",
      "weighted avg       0.89      0.92      0.90     15000\n",
      "\n",
      "---------------------------------------------------------\n"
     ]
    }
   ],
   "source": [
    "print('Random Forrest Classifier:')\n",
    "print(classification_report(y_test, forest.predict(X_test)))\n",
    "print('---------------------------------------------------------')"
   ]
  },
  {
   "cell_type": "code",
   "execution_count": null,
   "metadata": {},
   "outputs": [],
   "source": []
  }
 ],
 "metadata": {
  "kernelspec": {
   "display_name": "Python 3",
   "language": "python",
   "name": "python3"
  },
  "language_info": {
   "codemirror_mode": {
    "name": "ipython",
    "version": 3
   },
   "file_extension": ".py",
   "mimetype": "text/x-python",
   "name": "python",
   "nbconvert_exporter": "python",
   "pygments_lexer": "ipython3",
   "version": "3.6.6"
  },
  "toc": {
   "base_numbering": 1,
   "nav_menu": {},
   "number_sections": true,
   "sideBar": true,
   "skip_h1_title": false,
   "title_cell": "Table of Contents",
   "title_sidebar": "Contents",
   "toc_cell": false,
   "toc_position": {},
   "toc_section_display": true,
   "toc_window_display": false
  },
  "varInspector": {
   "cols": {
    "lenName": 16,
    "lenType": 16,
    "lenVar": 40
   },
   "kernels_config": {
    "python": {
     "delete_cmd_postfix": "",
     "delete_cmd_prefix": "del ",
     "library": "var_list.py",
     "varRefreshCmd": "print(var_dic_list())"
    },
    "r": {
     "delete_cmd_postfix": ") ",
     "delete_cmd_prefix": "rm(",
     "library": "var_list.r",
     "varRefreshCmd": "cat(var_dic_list()) "
    }
   },
   "types_to_exclude": [
    "module",
    "function",
    "builtin_function_or_method",
    "instance",
    "_Feature"
   ],
   "window_display": false
  }
 },
 "nbformat": 4,
 "nbformat_minor": 2
}
