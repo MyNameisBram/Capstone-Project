{
 "cells": [
  {
   "cell_type": "markdown",
   "metadata": {},
   "source": [
    "# README"
   ]
  },
  {
   "cell_type": "markdown",
   "metadata": {},
   "source": [
    "# Abstract\n",
    "---"
   ]
  },
  {
   "cell_type": "markdown",
   "metadata": {},
   "source": [
    "Collection agencies spends millions of dollars sending letters and making phone calls in order to potentially receive some sort of payment from the debtor. Most of these companies are blindly sending letters and making phone calls to make an effort to retain some form of payment. Data science methods will be applied in attempt to increase right party contact, filter and prioritize accounts, in hopes to increasing collection efficiency and decreasing operational cost. \n",
    "\n",
    "\n",
    "**Example:** mailing 500k (arbitrary account numbers) letters to pre-screened individuals, who have a higher likelihood of paying vs. mailing letters to all 2 million individuals. At \\\\$0.15 a letter, total cost of \\\\$300k, which will save the company \\\\$225k or 75% every time they plan on mailing a letter. Same can be applied with phone calls. \n",
    "\n",
    "\n",
    "#### Problem statement:\n",
    "\n",
    "**Can we use machine learning to segment and rank accounts by likelihood of payment using historical accounts?**\n",
    "\n"
   ]
  },
  {
   "cell_type": "markdown",
   "metadata": {},
   "source": [
    "# Overview\n",
    "___\n",
    "We knew prior to starting this project that this was a difficult task to take on. We found this to be true, especially during our modeling stage due to extreme data imbalance. During our process, we exhausted our efforts in attempt to reduce imbalanced data, and still did not receive \"good\" results. We \"predicted\" this would be the case due to the nature of the dataset i.e. business. Therefore, we utilized multiple machine learning models to exploit features deemed most important, and derived a scoring sytem in order to segement and rank accounts by likehood of payments using historical successes... Which then can be used to prioritize accounts and increase efficiency. As we walk through the README, you'll notice we scrubbed and explore our data in multiple places, and not just at the begining, but the work flow will be consistent with our OSEMiN method. "
   ]
  },
  {
   "cell_type": "markdown",
   "metadata": {},
   "source": [
    "# Obtain\n",
    "---"
   ]
  },
  {
   "cell_type": "markdown",
   "metadata": {},
   "source": [
    "**This dataset consist of 5 files:**\n",
    "- `DB_Accounts_2012-2015.txt` : contains account numbers and account specifics \n",
    "- `DB_Splits.txt` : contains payment information \n",
    "- `DB_Entities.txt` : contains entity address information \n",
    "- `DB_Purchases.txt` : contains account balances purchases and descriptive portfolio information\n",
    "- `uszips.csv`: contains zip code based economic data \n",
    "\n",
    "The final dataset used consist of **12.7 million records with 46 columns.** \n",
    "- **13 categorical** and **33 continuous** features"
   ]
  },
  {
   "cell_type": "markdown",
   "metadata": {},
   "source": [
    "# Scrub \n",
    "---"
   ]
  },
  {
   "cell_type": "markdown",
   "metadata": {},
   "source": [
    "During this process, we completed most of our feature engineering. We started with cleaning and merging our first of many datasets in our `Cleaning.ipynb`. After modeling, we then created our scoring/grading system in our `Scoring System.ipynb`."
   ]
  },
  {
   "cell_type": "markdown",
   "metadata": {},
   "source": [
    "# EDA \n",
    "___ \n",
    "Our exploritory data analysis stage is one of the most opended and one of the most important aspect of the process. During our EDA, we will ask questions about our data and will either find a quick answer or further our our analysis which often results in pulling more data, and/or combining data, which means returning to previous steps. Some questions we'd like to answer to begin with: \n",
    "\n",
    "- What is the breakdown between payers and non-payers? \n",
    "- Are there any correlation between certain features and our target? \n",
    "- Are the numerical features evenly distributed? \n",
    "- Does any feature(s) stick out vs. others? \n"
   ]
  },
  {
   "cell_type": "markdown",
   "metadata": {},
   "source": [
    "## Gather Sense of Our Data: \n",
    "The first thing we must do is gather a sense of our data. \n",
    "\n",
    "### Highlights: \n",
    "- There are 12,713,917 total accounts and only 556,536 accounts paid in full or settled (considered - paid) \n",
    "- We have a total of 46 columns \n"
   ]
  },
  {
   "cell_type": "markdown",
   "metadata": {},
   "source": [
    "#### What is the breakdown between payers and non-payers? \n",
    "95.63% are non-payers and only 4.37% are payers\n",
    "\n",
    "<img src='img_class_dist.png'>"
   ]
  },
  {
   "cell_type": "markdown",
   "metadata": {},
   "source": [
    "### Are there any correlation between certain features and our target?\n",
    "We want to see if there are any features that influence `Paid` heavily. As the heatmap below shows, there aren't any features that correlates highly with our target. We also used boxplots to get a better understanding of the distribution of these features. \n",
    "\n",
    "\n",
    "<img src='img_heatmap.png'>\n",
    "\n",
    "---\n",
    "\n",
    "<img src='img_boxplot.png'>"
   ]
  },
  {
   "cell_type": "markdown",
   "metadata": {},
   "source": [
    "#### Are the numerical features evenly distributed? \n",
    "\n",
    "**Checking our numerical feature(s) distribution: Payers vs. Non-Payer**: As the image shows below, our numerical feature(s) distribution between payers and non-payers look very similar. We predict \n",
    "\n",
    "<img src= 'img_pay_non_dist.png'>\n",
    "\n"
   ]
  },
  {
   "cell_type": "markdown",
   "metadata": {},
   "source": [
    "#### Does any feature(s) stick out vs. others? \n",
    "\n",
    "<img src='img_totalqty_age_range.png'>"
   ]
  },
  {
   "cell_type": "markdown",
   "metadata": {},
   "source": [
    "### Summary: \n",
    "- Our data is highly imbalance between payers and non-payers. \n",
    "- Our distribution of features between the two classes are pretty even. \n",
    "- There really isn't any one feature that correlates with our target. \n",
    "\n",
    "From our initial EDA, we concluded that our features, has no direct correlations with our target variable. We predicted this might be the case due to our heavily imbalanced data."
   ]
  },
  {
   "cell_type": "markdown",
   "metadata": {},
   "source": [
    "# Preparing Our Data\n",
    "--- \n",
    "We assume our models will have a difficult time differentiating our classes due to high data imbalance. Knowing this, we implemented \"**random under sampling**\", which consists of removing data in order to have a more balanced dataset, and avoiding our models to overfitting (as you'll see below). \n",
    "\n",
    "\n",
    "- Orginal dataset: **96%** Non-Payers & **4%** Payers \n",
    "- Random Under Sampling: **50%** Non-Payers & **50%** Payers\n",
    "\n",
    "To avoid contamiation of data during our model training, we used a percentage our data, and created a randomly generated subset for each of our dataset and held out a portion of our data for testing. \n",
    "\n",
    "**Note:** An issue with \"random under sampling\" is the information loss, which risk our models to be less accurate. "
   ]
  },
  {
   "cell_type": "markdown",
   "metadata": {},
   "source": [
    "# Model \n",
    "___\n",
    "\n",
    "## [Part I]()\n",
    "___\n",
    "\n",
    "### Dimensionality Reduction and Clustering: \n",
    "Here we'll be using some unsupervised algorithms in attempt to reduce dimensionality. \n",
    "- [t-SNE](https://towardsdatascience.com/an-introduction-to-t-sne-with-python-example-5a3a293108d1): Non-linear technique for data exploration and visualizing high-dimensional data. Developed in 2008.\n",
    "- PCA: Linear dimension reduction techique that seeks to maximize variance and preserves large pairwise distance. Developed in 1933. \n",
    "- Truncated Singular Value Decomposition (SVD): Similar to PCA, but the factorization is done on the data matrix vs. PCA, where factorization is done on the covariance matrix.\n",
    "\n",
    "### Summary: \n",
    "- Even after balancing our data, the algorithms failed to accurately cluster the cases (payers vs. non-payers) \n",
    "- This gives us an indication that further predictive models will perform poorly in identifying the classes. \n",
    "\n",
    "#### Imbalanced Dataset Clustering:\n",
    "<img src='img_dim_redct.png'>\n",
    "\n",
    "#### Balanced Dataset 50/50 Clustring:\n",
    "<img src='img_dim_redct_50_50.png'>"
   ]
  },
  {
   "cell_type": "markdown",
   "metadata": {},
   "source": [
    "## [Part II]()\n",
    "___\n",
    "\n",
    "### Classifiers: \n",
    "In this section we'll train four types of classifiers to see which will be more effective in detecting if someone is a payer or not. We ran our models using two different datasets. The original highly imbalance data, and a **Random under-sampling** dataset, which consists removing data to create a distribution of 50/50 payers and non-payers. Our initial models with the imbalance data had awesome/near perfection scores. This is due to the nature of our imbalance data, with our models identifying 96% of each accounts as \"non-payers\" i.e. overfitting. \n",
    "\n",
    "### Summmary:\n",
    "- **SVM (support vector machine)** classifier has the highest accuracy of the four, with Logistic Regression and Random Forest being a close second place. \n",
    "- **GridsearchCV** is used to determine the parameters that gives us the best predictive score. \n",
    "- SVM has the best **ROC score**, meaning that SVM identified payers from the non-payers better than the other three algorithms. \n",
    "\n",
    "### Learning Curves: \n",
    "- The wider the gap between the training score and the cross validation score, the more likely your model is **overfitting**, i.e. **high variance**.\n",
    "- If the score is low for both, this indicates that our model is **underfitting** i.e. **high bias**.\n",
    "- SVC showed the best score score with 67.5% \n",
    "\n",
    "___\n",
    "#### Score:\n",
    "<img src='score.png'>\n"
   ]
  },
  {
   "cell_type": "markdown",
   "metadata": {},
   "source": [
    "#### ROC Curve:\n",
    "___\n",
    "#### Imbalanced Dataset \n",
    "<img src= 'img_ROC_curve.png'>\n",
    "\n",
    "#### Balanced Dataset\n",
    "<img src='img_ROC_curve50_50.png'>"
   ]
  },
  {
   "cell_type": "markdown",
   "metadata": {},
   "source": [
    "#### Learning Curve: Balanced Dataset\n",
    "___ \n",
    "         \n",
    "<img src='img_learning_curve50_50.png'>\n",
    "\n"
   ]
  },
  {
   "cell_type": "markdown",
   "metadata": {},
   "source": [
    "### Confusion Matrix: \n",
    "---\n",
    "**Positive/Negative:** Type of Class (label) [0, 1] True/False: Correctly or Incorrectly classified by the model.\n",
    "\n",
    "- **True Negatives** (Top-Left Square): This is the number of correct classifications of the Non-Payer class. \n",
    "- **False Negatives** (Top-Right Square): This is the number of incorrect classifications of the Non-Payer class. \n",
    "- **False Positives** (Bottom-Left Square): This is the number of incorrect classifications of the Payer class \n",
    "- **True Positives** (Bottom-Right Square): This is the number of correct classifications of the Payer class.\n",
    "\n",
    "### Summary: \n",
    "- **Classification Models**: The models that performed the best were **logisitic regression** and **support vector classifier (SVM)**. \n",
    "- Our over all precision/recall score is not great, but better (not overfitting) vs. our imbalanced dataset. \n",
    "\n",
    "<img src='img_conf_mtrx_50_50models.png'>\n",
    "<img src='class_report.png'>"
   ]
  },
  {
   "cell_type": "markdown",
   "metadata": {},
   "source": [
    "## [Part III]()\n",
    "--- \n",
    "### Neural Networks:\n",
    "In this section we will implement a simple Neural Network with two hidden layers in order to see which of the two logistic regressions models we implemented in the (undersample or oversample(SMOTE)) has a better accuracy for detecting payers and non-payers. \n",
    "\n",
    "- We will use our **random undersampled** subset and our **SMOTE** dataset in order to predict to predict the final result using the original testing dataset. \n",
    "- **Neural Network**: We composed a neural network which consists of two hidden layers with 46 nodes per layer (number of features) and an output node composed of two possible outcomes 0 or 1 ( Non-Payer and Payer)\n",
    "- **Other Features**:\n",
    "    - Learning rate: 0.001\n",
    "    - Optimizer: AdamOptimizer\n",
    "    - Activation function: `'relu'` and `'sigmoid'` for the output\n",
    "    - Loss: `'sparse_catergorical_crossentropy'`, which provides the probabiliyt wheter an instance is non-payer or payer\n",
    "    \n",
    "\n",
    "### Goal: \n",
    "Our main goal is to explore how our simple neural network behaves with our two datesets and see if they are able to predict accurately between the two classes (payer and non-payer). \n",
    "    \n",
    "### Summary: \n",
    "- Using SMOTE on our imbalanced data helped with identifying our imbalanced labels. \n",
    "- Our simple neural network was able to identify \"Payer\" class better than our other models but at at the cost of increased **missed identification** of our True Positive or \"Non-Payer\", meaning our SMOTE NN missclassifed our \"Non-Payers\" as \"Payers\". Which bring us to a similar issue in which we hope to disclose. \n",
    "\n",
    "### Confusion Matrix:\n",
    "---\n",
    "#### Random Under Sample:\n",
    "<img src='img_neural_mtrx50_50.png'>\n",
    "\n",
    "#### SMOTE:\n",
    "<img src= 'img_neural_mtrx_SMOTE.png'>"
   ]
  },
  {
   "cell_type": "markdown",
   "metadata": {},
   "source": [
    "# Conclusion\n",
    "--- \n"
   ]
  },
  {
   "cell_type": "markdown",
   "metadata": {},
   "source": [
    "We concluded that our models performed better than a 50/50 coinflip, by an average of 10-15% more. We are disatified with the scores we received. However we utilized our findings to create a scoring system for collection agencies to rank/prioritize accounts by likelihood of payment.\n",
    "\n",
    "### Summary: \n",
    "- We were able to use our scoring system i.e. `Grade` in tandem with our findings during our EDA, to segment accounts and target those who has a higher likelihood of payment. \n",
    "- Grouping by `Grade`, `Age_range`, and `Income_level`, we were able to identify accounts with a higher `Percent_Paid`, i.e. likelihood of payment. \n",
    "\n",
    "### Next Steps: \n",
    "- Scrape zip code based consumer behavioral data (if possible) and combine with our current features.\n",
    "- Use sensitive information i.e. ss#, gender, sex and race. \n",
    "- We would like to create a pipeline from receiving our data, OSEMiN process (clean,modeling, ect.), and create a user friendly dash board that collection agencies can utilize. \n",
    "- We also would like to compare our scoring system i.e. \"likelihood\" of payment vs. other scoring systems in the market place. \n",
    "\n",
    "### Scoring System:\n",
    "- We utilized our models' feature importance to \"score\" our categorical features.With `Grade` `A` being the most likelihood of payment and `F` with the least likelihood of payment.\n",
    "- `Grade`: \n",
    "    - A > Aa > Aaa\n",
    "    - B > Bb > Bbb\n",
    "    - C > Cc\n",
    "    - D > Dd\n",
    "    - F \n",
    "\n",
    "\n",
    "\n",
    "#### Grade Breakdown: \n",
    "<img src='grade_1.png'>\n",
    "\n",
    "#### Grade `A` Breakdown - Group by `Grade`, `Age_range`, and `Income_level`:\n",
    "<img src='grade_2.png'>"
   ]
  },
  {
   "cell_type": "markdown",
   "metadata": {},
   "source": [
    "---\n"
   ]
  },
  {
   "cell_type": "code",
   "execution_count": null,
   "metadata": {},
   "outputs": [],
   "source": []
  }
 ],
 "metadata": {
  "kernelspec": {
   "display_name": "Python 3",
   "language": "python",
   "name": "python3"
  },
  "language_info": {
   "codemirror_mode": {
    "name": "ipython",
    "version": 3
   },
   "file_extension": ".py",
   "mimetype": "text/x-python",
   "name": "python",
   "nbconvert_exporter": "python",
   "pygments_lexer": "ipython3",
   "version": "3.6.6"
  }
 },
 "nbformat": 4,
 "nbformat_minor": 2
}
